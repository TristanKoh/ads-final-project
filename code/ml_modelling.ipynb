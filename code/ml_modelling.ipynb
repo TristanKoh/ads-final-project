{
 "cells": [
  {
   "attachments": {},
   "cell_type": "markdown",
   "metadata": {},
   "source": [
    "## ML modelling using Light GBM\n",
    "\n",
    "Not the best model score on Kaggle (2.39, better than SARIMA, worse than naive methods). Did not come in top 5 models overall. Would require more time for feature engineering and other ways to cope with the size of the dataset (here we limited it to the last 6 months of the train.csv)\n",
    "\n",
    "NOTE: Due to the .csv file size (850mb for 6 months training data), please run ```ml_data_structuring.ipynb``` first to obtain the required .csv (```long_train_6_mths_with_lags.csv```) before running this notebook."
   ]
  },
  {
   "cell_type": "code",
   "execution_count": 1,
   "metadata": {},
   "outputs": [],
   "source": [
    "import pandas as pd\n",
    "import numpy as np\n",
    "import matplotlib.pyplot as plt\n",
    "\n",
    "from pmdarima.model_selection import train_test_split\n",
    "from sklearn.metrics import mean_squared_error\n",
    "import lightgbm as lgb\n",
    "\n",
    "# import datetime module\n",
    "import datetime as dt"
   ]
  },
  {
   "cell_type": "code",
   "execution_count": 2,
   "metadata": {},
   "outputs": [
    {
     "data": {
      "text/html": [
       "<div>\n",
       "<style scoped>\n",
       "    .dataframe tbody tr th:only-of-type {\n",
       "        vertical-align: middle;\n",
       "    }\n",
       "\n",
       "    .dataframe tbody tr th {\n",
       "        vertical-align: top;\n",
       "    }\n",
       "\n",
       "    .dataframe thead th {\n",
       "        text-align: right;\n",
       "    }\n",
       "</style>\n",
       "<table border=\"1\" class=\"dataframe\">\n",
       "  <thead>\n",
       "    <tr style=\"text-align: right;\">\n",
       "      <th></th>\n",
       "      <th>date</th>\n",
       "      <th>id</th>\n",
       "      <th>subcat_id</th>\n",
       "      <th>category_id</th>\n",
       "      <th>store_id</th>\n",
       "      <th>region_id</th>\n",
       "      <th>d</th>\n",
       "      <th>units_sold</th>\n",
       "      <th>wm_yr_wk</th>\n",
       "      <th>weekday</th>\n",
       "      <th>...</th>\n",
       "      <th>year</th>\n",
       "      <th>sell_price</th>\n",
       "      <th>item_id</th>\n",
       "      <th>units_sold_l7</th>\n",
       "      <th>units_sold_l14</th>\n",
       "      <th>units_sold_l21</th>\n",
       "      <th>day_of_month</th>\n",
       "      <th>day_of_year</th>\n",
       "      <th>week_of_month</th>\n",
       "      <th>week_of_year</th>\n",
       "    </tr>\n",
       "  </thead>\n",
       "  <tbody>\n",
       "    <tr>\n",
       "      <th>0</th>\n",
       "      <td>2015-10-30</td>\n",
       "      <td>Beauty_1_001_East_1</td>\n",
       "      <td>Beauty_1</td>\n",
       "      <td>Beauty</td>\n",
       "      <td>East_1</td>\n",
       "      <td>East</td>\n",
       "      <td>d_1736</td>\n",
       "      <td>2</td>\n",
       "      <td>11539.0</td>\n",
       "      <td>Friday</td>\n",
       "      <td>...</td>\n",
       "      <td>2015.0</td>\n",
       "      <td>8.26</td>\n",
       "      <td>Beauty_1_001</td>\n",
       "      <td>0</td>\n",
       "      <td>0</td>\n",
       "      <td>0</td>\n",
       "      <td>30.0</td>\n",
       "      <td>303.0</td>\n",
       "      <td>5.0</td>\n",
       "      <td>43.0</td>\n",
       "    </tr>\n",
       "    <tr>\n",
       "      <th>1</th>\n",
       "      <td>2015-10-30</td>\n",
       "      <td>Beauty_1_002_East_1</td>\n",
       "      <td>Beauty_1</td>\n",
       "      <td>Beauty</td>\n",
       "      <td>East_1</td>\n",
       "      <td>East</td>\n",
       "      <td>d_1736</td>\n",
       "      <td>1</td>\n",
       "      <td>11539.0</td>\n",
       "      <td>Friday</td>\n",
       "      <td>...</td>\n",
       "      <td>2015.0</td>\n",
       "      <td>3.97</td>\n",
       "      <td>Beauty_1_002</td>\n",
       "      <td>0</td>\n",
       "      <td>0</td>\n",
       "      <td>0</td>\n",
       "      <td>30.0</td>\n",
       "      <td>303.0</td>\n",
       "      <td>5.0</td>\n",
       "      <td>43.0</td>\n",
       "    </tr>\n",
       "    <tr>\n",
       "      <th>2</th>\n",
       "      <td>2015-10-30</td>\n",
       "      <td>Beauty_1_003_East_1</td>\n",
       "      <td>Beauty_1</td>\n",
       "      <td>Beauty</td>\n",
       "      <td>East_1</td>\n",
       "      <td>East</td>\n",
       "      <td>d_1736</td>\n",
       "      <td>0</td>\n",
       "      <td>11539.0</td>\n",
       "      <td>Friday</td>\n",
       "      <td>...</td>\n",
       "      <td>2015.0</td>\n",
       "      <td>2.97</td>\n",
       "      <td>Beauty_1_003</td>\n",
       "      <td>0</td>\n",
       "      <td>0</td>\n",
       "      <td>0</td>\n",
       "      <td>30.0</td>\n",
       "      <td>303.0</td>\n",
       "      <td>5.0</td>\n",
       "      <td>43.0</td>\n",
       "    </tr>\n",
       "    <tr>\n",
       "      <th>3</th>\n",
       "      <td>2015-10-30</td>\n",
       "      <td>Beauty_1_004_East_1</td>\n",
       "      <td>Beauty_1</td>\n",
       "      <td>Beauty</td>\n",
       "      <td>East_1</td>\n",
       "      <td>East</td>\n",
       "      <td>d_1736</td>\n",
       "      <td>0</td>\n",
       "      <td>11539.0</td>\n",
       "      <td>Friday</td>\n",
       "      <td>...</td>\n",
       "      <td>2015.0</td>\n",
       "      <td>4.64</td>\n",
       "      <td>Beauty_1_004</td>\n",
       "      <td>0</td>\n",
       "      <td>0</td>\n",
       "      <td>0</td>\n",
       "      <td>30.0</td>\n",
       "      <td>303.0</td>\n",
       "      <td>5.0</td>\n",
       "      <td>43.0</td>\n",
       "    </tr>\n",
       "    <tr>\n",
       "      <th>4</th>\n",
       "      <td>2015-10-30</td>\n",
       "      <td>Beauty_1_005_East_1</td>\n",
       "      <td>Beauty_1</td>\n",
       "      <td>Beauty</td>\n",
       "      <td>East_1</td>\n",
       "      <td>East</td>\n",
       "      <td>d_1736</td>\n",
       "      <td>1</td>\n",
       "      <td>11539.0</td>\n",
       "      <td>Friday</td>\n",
       "      <td>...</td>\n",
       "      <td>2015.0</td>\n",
       "      <td>2.88</td>\n",
       "      <td>Beauty_1_005</td>\n",
       "      <td>0</td>\n",
       "      <td>0</td>\n",
       "      <td>0</td>\n",
       "      <td>30.0</td>\n",
       "      <td>303.0</td>\n",
       "      <td>5.0</td>\n",
       "      <td>43.0</td>\n",
       "    </tr>\n",
       "  </tbody>\n",
       "</table>\n",
       "<p>5 rows × 22 columns</p>\n",
       "</div>"
      ],
      "text/plain": [
       "         date                   id subcat_id category_id store_id region_id  \\\n",
       "0  2015-10-30  Beauty_1_001_East_1  Beauty_1      Beauty   East_1      East   \n",
       "1  2015-10-30  Beauty_1_002_East_1  Beauty_1      Beauty   East_1      East   \n",
       "2  2015-10-30  Beauty_1_003_East_1  Beauty_1      Beauty   East_1      East   \n",
       "3  2015-10-30  Beauty_1_004_East_1  Beauty_1      Beauty   East_1      East   \n",
       "4  2015-10-30  Beauty_1_005_East_1  Beauty_1      Beauty   East_1      East   \n",
       "\n",
       "        d  units_sold  wm_yr_wk weekday  ...    year  sell_price  \\\n",
       "0  d_1736           2   11539.0  Friday  ...  2015.0        8.26   \n",
       "1  d_1736           1   11539.0  Friday  ...  2015.0        3.97   \n",
       "2  d_1736           0   11539.0  Friday  ...  2015.0        2.97   \n",
       "3  d_1736           0   11539.0  Friday  ...  2015.0        4.64   \n",
       "4  d_1736           1   11539.0  Friday  ...  2015.0        2.88   \n",
       "\n",
       "        item_id  units_sold_l7 units_sold_l14  units_sold_l21  day_of_month  \\\n",
       "0  Beauty_1_001              0              0               0          30.0   \n",
       "1  Beauty_1_002              0              0               0          30.0   \n",
       "2  Beauty_1_003              0              0               0          30.0   \n",
       "3  Beauty_1_004              0              0               0          30.0   \n",
       "4  Beauty_1_005              0              0               0          30.0   \n",
       "\n",
       "   day_of_year  week_of_month  week_of_year  \n",
       "0        303.0            5.0          43.0  \n",
       "1        303.0            5.0          43.0  \n",
       "2        303.0            5.0          43.0  \n",
       "3        303.0            5.0          43.0  \n",
       "4        303.0            5.0          43.0  \n",
       "\n",
       "[5 rows x 22 columns]"
      ]
     },
     "execution_count": 2,
     "metadata": {},
     "output_type": "execute_result"
    }
   ],
   "source": [
    "df_sub = pd.read_csv(\"../datasets/sample_submission.csv\")\n",
    "df_long_train = pd.read_csv(\"../datasets/long_train_6_mths_with_lags.csv\")\n",
    "df_long_train.head()"
   ]
  },
  {
   "attachments": {},
   "cell_type": "markdown",
   "metadata": {},
   "source": [
    "Ensure that dtypes are consistent before training model"
   ]
  },
  {
   "cell_type": "code",
   "execution_count": 3,
   "metadata": {},
   "outputs": [
    {
     "name": "stdout",
     "output_type": "stream",
     "text": [
      "date               object\n",
      "id                 object\n",
      "subcat_id          object\n",
      "category_id        object\n",
      "store_id           object\n",
      "region_id          object\n",
      "d                  object\n",
      "units_sold          int64\n",
      "wm_yr_wk          float64\n",
      "weekday            object\n",
      "wday              float64\n",
      "month             float64\n",
      "year              float64\n",
      "sell_price        float64\n",
      "item_id            object\n",
      "units_sold_l7       int64\n",
      "units_sold_l14      int64\n",
      "units_sold_l21      int64\n",
      "day_of_month      float64\n",
      "day_of_year       float64\n",
      "week_of_month     float64\n",
      "week_of_year      float64\n",
      "dtype: object\n"
     ]
    }
   ],
   "source": [
    "print(df_long_train.dtypes)"
   ]
  },
  {
   "cell_type": "code",
   "execution_count": 4,
   "metadata": {},
   "outputs": [],
   "source": [
    "df_long_train[\"date\"] = pd.to_datetime(df_long_train[\"date\"])\n",
    "categorical_features = [\"category_id\", \"store_id\", \"region_id\", \"weekday\", \"wday\", \"month\", \"year\", \"day_of_month\", \"day_of_year\", \"week_of_month\", \"week_of_year\"]\n",
    "string_features = [\"id\", \"subcat_id\", \"d\", \"item_id\"]\n",
    "\n",
    "for f in categorical_features :\n",
    "    df_long_train[f] = df_long_train[f].astype(\"category\")\n",
    "\n",
    "for f in string_features :\n",
    "    df_long_train[f] = df_long_train[f].astype(\"string\")"
   ]
  },
  {
   "cell_type": "code",
   "execution_count": 5,
   "metadata": {},
   "outputs": [
    {
     "data": {
      "text/html": [
       "<div>\n",
       "<style scoped>\n",
       "    .dataframe tbody tr th:only-of-type {\n",
       "        vertical-align: middle;\n",
       "    }\n",
       "\n",
       "    .dataframe tbody tr th {\n",
       "        vertical-align: top;\n",
       "    }\n",
       "\n",
       "    .dataframe thead th {\n",
       "        text-align: right;\n",
       "    }\n",
       "</style>\n",
       "<table border=\"1\" class=\"dataframe\">\n",
       "  <thead>\n",
       "    <tr style=\"text-align: right;\">\n",
       "      <th></th>\n",
       "      <th>id</th>\n",
       "      <th>subcat_id</th>\n",
       "      <th>category_id</th>\n",
       "      <th>store_id</th>\n",
       "      <th>region_id</th>\n",
       "      <th>d</th>\n",
       "      <th>units_sold</th>\n",
       "      <th>wm_yr_wk</th>\n",
       "      <th>weekday</th>\n",
       "      <th>wday</th>\n",
       "      <th>...</th>\n",
       "      <th>sell_price</th>\n",
       "      <th>item_id</th>\n",
       "      <th>units_sold_l7</th>\n",
       "      <th>units_sold_l14</th>\n",
       "      <th>units_sold_l21</th>\n",
       "      <th>day_of_month</th>\n",
       "      <th>day_of_year</th>\n",
       "      <th>week_of_month</th>\n",
       "      <th>week_of_year</th>\n",
       "      <th>idx</th>\n",
       "    </tr>\n",
       "    <tr>\n",
       "      <th>date</th>\n",
       "      <th></th>\n",
       "      <th></th>\n",
       "      <th></th>\n",
       "      <th></th>\n",
       "      <th></th>\n",
       "      <th></th>\n",
       "      <th></th>\n",
       "      <th></th>\n",
       "      <th></th>\n",
       "      <th></th>\n",
       "      <th></th>\n",
       "      <th></th>\n",
       "      <th></th>\n",
       "      <th></th>\n",
       "      <th></th>\n",
       "      <th></th>\n",
       "      <th></th>\n",
       "      <th></th>\n",
       "      <th></th>\n",
       "      <th></th>\n",
       "      <th></th>\n",
       "    </tr>\n",
       "  </thead>\n",
       "  <tbody>\n",
       "    <tr>\n",
       "      <th>2015-10-30</th>\n",
       "      <td>Beauty_1_001_East_1</td>\n",
       "      <td>Beauty_1</td>\n",
       "      <td>Beauty</td>\n",
       "      <td>East_1</td>\n",
       "      <td>East</td>\n",
       "      <td>d_1736</td>\n",
       "      <td>2</td>\n",
       "      <td>11539.0</td>\n",
       "      <td>Friday</td>\n",
       "      <td>7.0</td>\n",
       "      <td>...</td>\n",
       "      <td>8.26</td>\n",
       "      <td>Beauty_1_001</td>\n",
       "      <td>0</td>\n",
       "      <td>0</td>\n",
       "      <td>0</td>\n",
       "      <td>30.0</td>\n",
       "      <td>303.0</td>\n",
       "      <td>5.0</td>\n",
       "      <td>43.0</td>\n",
       "      <td>0</td>\n",
       "    </tr>\n",
       "    <tr>\n",
       "      <th>2015-10-30</th>\n",
       "      <td>Beauty_1_002_East_1</td>\n",
       "      <td>Beauty_1</td>\n",
       "      <td>Beauty</td>\n",
       "      <td>East_1</td>\n",
       "      <td>East</td>\n",
       "      <td>d_1736</td>\n",
       "      <td>1</td>\n",
       "      <td>11539.0</td>\n",
       "      <td>Friday</td>\n",
       "      <td>7.0</td>\n",
       "      <td>...</td>\n",
       "      <td>3.97</td>\n",
       "      <td>Beauty_1_002</td>\n",
       "      <td>0</td>\n",
       "      <td>0</td>\n",
       "      <td>0</td>\n",
       "      <td>30.0</td>\n",
       "      <td>303.0</td>\n",
       "      <td>5.0</td>\n",
       "      <td>43.0</td>\n",
       "      <td>1</td>\n",
       "    </tr>\n",
       "    <tr>\n",
       "      <th>2015-10-30</th>\n",
       "      <td>Beauty_1_003_East_1</td>\n",
       "      <td>Beauty_1</td>\n",
       "      <td>Beauty</td>\n",
       "      <td>East_1</td>\n",
       "      <td>East</td>\n",
       "      <td>d_1736</td>\n",
       "      <td>0</td>\n",
       "      <td>11539.0</td>\n",
       "      <td>Friday</td>\n",
       "      <td>7.0</td>\n",
       "      <td>...</td>\n",
       "      <td>2.97</td>\n",
       "      <td>Beauty_1_003</td>\n",
       "      <td>0</td>\n",
       "      <td>0</td>\n",
       "      <td>0</td>\n",
       "      <td>30.0</td>\n",
       "      <td>303.0</td>\n",
       "      <td>5.0</td>\n",
       "      <td>43.0</td>\n",
       "      <td>2</td>\n",
       "    </tr>\n",
       "    <tr>\n",
       "      <th>2015-10-30</th>\n",
       "      <td>Beauty_1_004_East_1</td>\n",
       "      <td>Beauty_1</td>\n",
       "      <td>Beauty</td>\n",
       "      <td>East_1</td>\n",
       "      <td>East</td>\n",
       "      <td>d_1736</td>\n",
       "      <td>0</td>\n",
       "      <td>11539.0</td>\n",
       "      <td>Friday</td>\n",
       "      <td>7.0</td>\n",
       "      <td>...</td>\n",
       "      <td>4.64</td>\n",
       "      <td>Beauty_1_004</td>\n",
       "      <td>0</td>\n",
       "      <td>0</td>\n",
       "      <td>0</td>\n",
       "      <td>30.0</td>\n",
       "      <td>303.0</td>\n",
       "      <td>5.0</td>\n",
       "      <td>43.0</td>\n",
       "      <td>3</td>\n",
       "    </tr>\n",
       "    <tr>\n",
       "      <th>2015-10-30</th>\n",
       "      <td>Beauty_1_005_East_1</td>\n",
       "      <td>Beauty_1</td>\n",
       "      <td>Beauty</td>\n",
       "      <td>East_1</td>\n",
       "      <td>East</td>\n",
       "      <td>d_1736</td>\n",
       "      <td>1</td>\n",
       "      <td>11539.0</td>\n",
       "      <td>Friday</td>\n",
       "      <td>7.0</td>\n",
       "      <td>...</td>\n",
       "      <td>2.88</td>\n",
       "      <td>Beauty_1_005</td>\n",
       "      <td>0</td>\n",
       "      <td>0</td>\n",
       "      <td>0</td>\n",
       "      <td>30.0</td>\n",
       "      <td>303.0</td>\n",
       "      <td>5.0</td>\n",
       "      <td>43.0</td>\n",
       "      <td>4</td>\n",
       "    </tr>\n",
       "  </tbody>\n",
       "</table>\n",
       "<p>5 rows × 22 columns</p>\n",
       "</div>"
      ],
      "text/plain": [
       "                             id subcat_id category_id store_id region_id  \\\n",
       "date                                                                       \n",
       "2015-10-30  Beauty_1_001_East_1  Beauty_1      Beauty   East_1      East   \n",
       "2015-10-30  Beauty_1_002_East_1  Beauty_1      Beauty   East_1      East   \n",
       "2015-10-30  Beauty_1_003_East_1  Beauty_1      Beauty   East_1      East   \n",
       "2015-10-30  Beauty_1_004_East_1  Beauty_1      Beauty   East_1      East   \n",
       "2015-10-30  Beauty_1_005_East_1  Beauty_1      Beauty   East_1      East   \n",
       "\n",
       "                 d  units_sold  wm_yr_wk weekday wday  ... sell_price  \\\n",
       "date                                                   ...              \n",
       "2015-10-30  d_1736           2   11539.0  Friday  7.0  ...       8.26   \n",
       "2015-10-30  d_1736           1   11539.0  Friday  7.0  ...       3.97   \n",
       "2015-10-30  d_1736           0   11539.0  Friday  7.0  ...       2.97   \n",
       "2015-10-30  d_1736           0   11539.0  Friday  7.0  ...       4.64   \n",
       "2015-10-30  d_1736           1   11539.0  Friday  7.0  ...       2.88   \n",
       "\n",
       "                 item_id  units_sold_l7 units_sold_l14  units_sold_l21  \\\n",
       "date                                                                     \n",
       "2015-10-30  Beauty_1_001              0              0               0   \n",
       "2015-10-30  Beauty_1_002              0              0               0   \n",
       "2015-10-30  Beauty_1_003              0              0               0   \n",
       "2015-10-30  Beauty_1_004              0              0               0   \n",
       "2015-10-30  Beauty_1_005              0              0               0   \n",
       "\n",
       "            day_of_month  day_of_year week_of_month week_of_year idx  \n",
       "date                                                                  \n",
       "2015-10-30          30.0        303.0           5.0         43.0   0  \n",
       "2015-10-30          30.0        303.0           5.0         43.0   1  \n",
       "2015-10-30          30.0        303.0           5.0         43.0   2  \n",
       "2015-10-30          30.0        303.0           5.0         43.0   3  \n",
       "2015-10-30          30.0        303.0           5.0         43.0   4  \n",
       "\n",
       "[5 rows x 22 columns]"
      ]
     },
     "execution_count": 5,
     "metadata": {},
     "output_type": "execute_result"
    }
   ],
   "source": [
    "# Sort dataframe by date, retain original index so items are in order\n",
    "df_long_train = df_long_train.rename_axis(\"idx\")\n",
    "df_long_train = df_long_train.sort_values(by = [\"idx\", \"date\"])\n",
    "df_long_train[\"idx\"] = df_long_train.index\n",
    "df_long_train = df_long_train.set_index(\"date\")\n",
    "df_long_train.head()"
   ]
  },
  {
   "cell_type": "markdown",
   "metadata": {},
   "source": [
    " # Correlation of price on sales"
   ]
  },
  {
   "cell_type": "code",
   "execution_count": 12,
   "metadata": {},
   "outputs": [
    {
     "name": "stdout",
     "output_type": "stream",
     "text": [
      "Correlation between sales and price: -0.1312463936768341\n"
     ]
    }
   ],
   "source": [
    "corr = df_long_train[['sell_price', 'units_sold']].corr()\n",
    "print('Correlation between sales and price:', corr.iloc[0,1])"
   ]
  },
  {
   "attachments": {},
   "cell_type": "markdown",
   "metadata": {},
   "source": [
    "There is a slight negative correlation between units sold and price, which is not surprising, given the basic concept that people buy less items if the price is higher.\n",
    "However, -0.13 is a small negative correlation only, so we cannot conclude that there is a strong negative correlation. This is also seen in the scatter plot below with no strong linear correlation between the features.\n",
    "\n",
    "Another explanation for this slight negative correlation could also be that the cheaper products tend to be the more essential goods (like food), which people would buy even if prices were high. So the demand of the products is not necessarily based on price alone."
   ]
  },
  {
   "cell_type": "code",
   "execution_count": 13,
   "metadata": {},
   "outputs": [
    {
     "data": {
      "image/png": "[encoded data removed]",
      "text/plain": [
       "<Figure size 640x480 with 1 Axes>"
      ]
     },
     "metadata": {},
     "output_type": "display_data"
    }
   ],
   "source": [
    "plt.scatter(df_long_train['sell_price'], df_long_train['units_sold'])\n",
    "plt.xlabel('Price')\n",
    "plt.ylabel('Sales')\n",
    "plt.show()"
   ]
  },
  {
   "attachments": {},
   "cell_type": "markdown",
   "metadata": {},
   "source": [
    " ### Fit LGBM\n",
    "\n",
    "Using all possible features, including price and lags\n",
    "\n",
    "First we do a 80/20 test split and look at the rmse on 20% of the test data.\n",
    "\n",
    "Then use the entire train dataset to predict for the subsequent 21 days. "
   ]
  },
  {
   "cell_type": "code",
   "execution_count": 6,
   "metadata": {},
   "outputs": [],
   "source": [
    "end_train_date = \"2016-04-30\"\n",
    "lagged_features = [\"units_sold_l7\", \"units_sold_l14\", \"units_sold_l21\"]\n",
    "\n",
    "# Select training set until before forecast date \n",
    "X_subset = df_long_train.loc[:end_train_date][[\"category_id\", \"store_id\", \"region_id\", \"wday\", \"month\", \"year\", \"day_of_month\", \"day_of_year\", \"week_of_month\", \"week_of_year\", \"sell_price\"] + lagged_features].dropna()\n",
    "\n",
    "X_subset = pd.get_dummies(X_subset)\n",
    "y = df_long_train.loc[:end_train_date]['units_sold'].dropna().values"
   ]
  },
  {
   "cell_type": "code",
   "execution_count": 20,
   "metadata": {},
   "outputs": [],
   "source": [
    "# split into train and test data\n",
    "X_train, X_test, y_train, y_test = train_test_split(X_subset, y, test_size = 0.2)\n",
    "\n",
    "# LGBM dataset\n",
    "train_data_80 = lgb.Dataset(X_train, label = y_train, free_raw_data = True)\n",
    "params = {'objective': 'regression', 'metric': 'rmse'}"
   ]
  },
  {
   "cell_type": "code",
   "execution_count": 21,
   "metadata": {},
   "outputs": [
    {
     "name": "stdout",
     "output_type": "stream",
     "text": [
      "[LightGBM] [Warning] Auto-choosing row-wise multi-threading, the overhead of testing was 0.217047 seconds.\n",
      "You can set `force_row_wise=true` to remove the overhead.\n",
      "And if memory is not enough, you can set `force_col_wise=true`.\n",
      "[LightGBM] [Info] Total Bins 877\n",
      "[LightGBM] [Info] Number of data points in the train set: 4486365, number of used features: 206\n",
      "[LightGBM] [Info] Start training from score 1.282746\n"
     ]
    }
   ],
   "source": [
    "# Fit LGBM\n",
    "lgb_model_80 = lgb.train(params, train_data_80)\n",
    "\n",
    "# Test\n",
    "pred = lgb_model_80.predict(X_test)"
   ]
  },
  {
   "cell_type": "code",
   "execution_count": 17,
   "metadata": {},
   "outputs": [
    {
     "name": "stdout",
     "output_type": "stream",
     "text": [
      "2.3016646005403154\n"
     ]
    }
   ],
   "source": [
    "print(np.sqrt(mean_squared_error(y_test, pred.round().astype(int))))"
   ]
  },
  {
   "attachments": {},
   "cell_type": "markdown",
   "metadata": {},
   "source": [
    "### Forecast for the next 21 days, using the entire train dataset (best model for ML, obtained Kaggle score = 2.39)\n",
    "\n",
    "NOTE: Ran into memory error when training for 1 year of training data, the error was that it required 35.2 Gb of space. So we stick to 6 months training data."
   ]
  },
  {
   "cell_type": "code",
   "execution_count": 7,
   "metadata": {},
   "outputs": [
    {
     "name": "stdout",
     "output_type": "stream",
     "text": [
      "[LightGBM] [Warning] Auto-choosing row-wise multi-threading, the overhead of testing was 0.311347 seconds.\n",
      "You can set `force_row_wise=true` to remove the overhead.\n",
      "And if memory is not enough, you can set `force_col_wise=true`.\n",
      "[LightGBM] [Info] Total Bins 1037\n",
      "[LightGBM] [Info] Number of data points in the train set: 5607957, number of used features: 284\n",
      "[LightGBM] [Info] Start training from score 1.303665\n"
     ]
    }
   ],
   "source": [
    "fc_days_dr = pd.date_range(start = \"2016-05-01\", end = \"2016-05-21\")\n",
    "fc_days_idx = df_long_train.loc[fc_days_dr][\"idx\"]\n",
    "\n",
    "train_data = lgb.Dataset(X_subset, label = y, free_raw_data = True)\n",
    "params = {'objective': 'regression', 'metric': 'rmse'}\n",
    "lgb_model = lgb.train(params, train_data)"
   ]
  },
  {
   "cell_type": "code",
   "execution_count": 9,
   "metadata": {},
   "outputs": [],
   "source": [
    "# Predict using the features already created from the last 21 days of the df\n",
    "x_fc_subset = X_subset.iloc[-len(fc_days_idx):, :]\n",
    "fc = lgb_model.predict(x_fc_subset).round().astype(int)"
   ]
  },
  {
   "cell_type": "code",
   "execution_count": 10,
   "metadata": {},
   "outputs": [
    {
     "data": {
      "text/html": [
       "<div>\n",
       "<style scoped>\n",
       "    .dataframe tbody tr th:only-of-type {\n",
       "        vertical-align: middle;\n",
       "    }\n",
       "\n",
       "    .dataframe tbody tr th {\n",
       "        vertical-align: top;\n",
       "    }\n",
       "\n",
       "    .dataframe thead th {\n",
       "        text-align: right;\n",
       "    }\n",
       "</style>\n",
       "<table border=\"1\" class=\"dataframe\">\n",
       "  <thead>\n",
       "    <tr style=\"text-align: right;\">\n",
       "      <th></th>\n",
       "      <th>date</th>\n",
       "      <th>y</th>\n",
       "      <th>id</th>\n",
       "    </tr>\n",
       "  </thead>\n",
       "  <tbody>\n",
       "    <tr>\n",
       "      <th>0</th>\n",
       "      <td>2016-05-01</td>\n",
       "      <td>1</td>\n",
       "      <td>Beauty_1_001_East_1</td>\n",
       "    </tr>\n",
       "    <tr>\n",
       "      <th>1</th>\n",
       "      <td>2016-05-01</td>\n",
       "      <td>0</td>\n",
       "      <td>Beauty_1_002_East_1</td>\n",
       "    </tr>\n",
       "    <tr>\n",
       "      <th>2</th>\n",
       "      <td>2016-05-01</td>\n",
       "      <td>0</td>\n",
       "      <td>Beauty_1_003_East_1</td>\n",
       "    </tr>\n",
       "    <tr>\n",
       "      <th>3</th>\n",
       "      <td>2016-05-01</td>\n",
       "      <td>2</td>\n",
       "      <td>Beauty_1_004_East_1</td>\n",
       "    </tr>\n",
       "    <tr>\n",
       "      <th>4</th>\n",
       "      <td>2016-05-01</td>\n",
       "      <td>2</td>\n",
       "      <td>Beauty_1_005_East_1</td>\n",
       "    </tr>\n",
       "  </tbody>\n",
       "</table>\n",
       "</div>"
      ],
      "text/plain": [
       "        date  y                   id\n",
       "0 2016-05-01  1  Beauty_1_001_East_1\n",
       "1 2016-05-01  0  Beauty_1_002_East_1\n",
       "2 2016-05-01  0  Beauty_1_003_East_1\n",
       "3 2016-05-01  2  Beauty_1_004_East_1\n",
       "4 2016-05-01  2  Beauty_1_005_East_1"
      ]
     },
     "execution_count": 10,
     "metadata": {},
     "output_type": "execute_result"
    }
   ],
   "source": [
    "df_preds = pd.DataFrame(\n",
    "    {\"date\" : df_long_train.index[fc_days_idx],\n",
    "     \"y\" : fc,\n",
    "     \"id\" : df_long_train.loc[fc_days_dr][\"id\"]}\n",
    ")\n",
    "\n",
    "df_preds = df_preds.reset_index(drop = True)\n",
    "\n",
    "fc_dr = pd.date_range(start = \"2016-05-01\", periods = 21)\n",
    "date_to_d_dict_fc = dict(zip(list(fc_dr), list(df_sub.columns[1:])))\n",
    "\n",
    "df_preds = df_preds.pivot(index = \"id\", columns = \"date\", values = \"y\").reset_index().rename(date_to_d_dict_fc, axis = 1)\n",
    "df_preds.head()"
   ]
  },
  {
   "cell_type": "code",
   "execution_count": 28,
   "metadata": {},
   "outputs": [],
   "source": [
    "# df_preds.to_csv(\"../submissions/ml_preds/6_mths_train_with_lags.csv\", index = False)"
   ]
  },
  {
   "cell_type": "code",
   "execution_count": 14,
   "metadata": {},
   "outputs": [
    {
     "data": {
      "text/plain": [
       "<lightgbm.basic.Booster at 0x23b02fcc548>"
      ]
     },
     "execution_count": 14,
     "metadata": {},
     "output_type": "execute_result"
    }
   ],
   "source": [
    "# Export model used for forecast\n",
    "# lgb_model.save_model(\"../submissions/ml_best_models_params/lgb_model_fc.txt\", num_iteration=lgb_model.best_iteration)"
   ]
  },
  {
   "attachments": {},
   "cell_type": "markdown",
   "metadata": {},
   "source": [
    "### Looking at the best features for the model\n",
    "\n",
    "The lagged features performed the best, starting from lag 7, 14 and 21. The importance of the features is confirmed by the seasonality of a week as mentioned in the EDA. So the day one week ago would be the best indicator of how many items would be sold for the same day in the upcoming week. Previous weeks gets less important for forecasting.\n",
    "\n",
    "Also, though there was not a strong correlation with price, price was the second most important feature, suggesting that there is some relation to demand and supply.\n",
    "\n",
    "There seems like product category (food and beauty) were also relatively strong predictors. Maybe these product categories have distinct trends compared to cleaning.\n",
    "\n",
    "The east region (along with a few other stores in the east) also seemed to be relatively important."
   ]
  },
  {
   "cell_type": "code",
   "execution_count": 13,
   "metadata": {},
   "outputs": [
    {
     "data": {
      "text/plain": [
       "<AxesSubplot:title={'center':'Feature importance'}, xlabel='Feature importance', ylabel='Features'>"
      ]
     },
     "execution_count": 13,
     "metadata": {},
     "output_type": "execute_result"
    },
    {
     "data": {
      "image/png": "[encoded data removed]",
      "text/plain": [
       "<Figure size 640x480 with 1 Axes>"
      ]
     },
     "metadata": {},
     "output_type": "display_data"
    }
   ],
   "source": [
    "lgb.plot_importance(lgb_model, max_num_features=20)"
   ]
  },
  {
   "attachments": {},
   "cell_type": "markdown",
   "metadata": {},
   "source": [
    "### Evaluation of ML model\n",
    "Overall, model did provide decent performance (better than ARIMA), but not as good as naive methods. Perhaps because we were limited by the feature engineering that only used lags by items sold. Also the preparation of data was time intensive (took about 2 afternoons to prepare), and we ran into frequent memory issues. While there is untapped potential for the ML method, naive methods are still the most time and computationally effective methods of forecasting for this dataset (and it can be run on all items for all days, instead of ML which could be run only on the last 6 months of train data). \n",
    "\n",
    "### Future work\n",
    "Creating more lag features, such as price lagged (but we have to first check if there is seasonality for price). \n",
    "\n",
    "Hyperparameter tuning for lgbm, and trying xgboost.\n",
    "\n",
    "We could also try other more creative ways of choosing the train data (other than the last 6 months prior to forecast, as what we have done here). Maybe we could have 10 different models by each store, and then use them to build some ensemble model to predict each item."
   ]
  }
 ],
 "metadata": {
  "kernelspec": {
   "display_name": "ads_env",
   "language": "python",
   "name": "python3"
  },
  "language_info": {
   "codemirror_mode": {
    "name": "ipython",
    "version": 3
   },
   "file_extension": ".py",
   "mimetype": "text/x-python",
   "name": "python",
   "nbconvert_exporter": "python",
   "pygments_lexer": "ipython3",
   "version": "3.7.5"
  },
  "orig_nbformat": 4
 },
 "nbformat": 4,
 "nbformat_minor": 2
}
