{
 "cells": [
  {
   "cell_type": "code",
   "execution_count": 1,
   "metadata": {},
   "outputs": [],
   "source": [
    "TRAIN_CSV_PATH = r\"../datasets/train.csv\"\n",
    "PRICES_CSV_PATH = r\"../datasets/prices.csv\"\n",
    "CAL_CSV_PATH = r\"../datasets/calendar.csv\"\n",
    "SAMPLE_CSV_PATH = r\"../datasets/sample_submission.csv\"\n",
    "\n",
    "EXPORT_PATH = r\"../submissions/\""
   ]
  },
  {
   "cell_type": "code",
   "execution_count": 2,
   "metadata": {},
   "outputs": [
    {
     "name": "stderr",
     "output_type": "stream",
     "text": [
      "c:\\Users\\Tristan\\Desktop\\Assignments\\ADS\\ads-final-project\\ads_env\\lib\\site-packages\\statsforecast\\core.py:21: TqdmExperimentalWarning: Using `tqdm.autonotebook.tqdm` in notebook mode. Use `tqdm.tqdm` instead to force console mode (e.g. in jupyter console)\n",
      "  from tqdm.autonotebook import tqdm\n"
     ]
    }
   ],
   "source": [
    "import numpy as np\n",
    "import pandas as pd\n",
    "import matplotlib.pyplot as plt\n",
    "\n",
    "from statsforecast import StatsForecast\n",
    "from statsforecast.models import Naive, SeasonalNaive, WindowAverage, SeasonalWindowAverage, SimpleExponentialSmoothingOptimized, SeasonalExponentialSmoothingOptimized, Holt, HoltWinters\n",
    "\n",
    "from sklearn.metrics import mean_squared_error"
   ]
  },
  {
   "cell_type": "code",
   "execution_count": 69,
   "metadata": {},
   "outputs": [],
   "source": [
    "df_train = pd.read_csv(TRAIN_CSV_PATH)\n",
    "df_sample_sub = pd.read_csv(SAMPLE_CSV_PATH)\n",
    "df_cal = pd.read_csv(CAL_CSV_PATH)\n",
    "\n",
    "df_dates = pd.DataFrame(columns = [\"d\"], data = df_train.columns[6:])\n",
    "df_dates = df_dates.merge(df_cal[[\"date\", \"d\"]], on = \"d\", how = \"left\")"
   ]
  },
  {
   "cell_type": "code",
   "execution_count": 4,
   "metadata": {},
   "outputs": [],
   "source": [
    "# Function to change to 0 if negative, if not round to nearest int\n",
    "def round_positive(s) :\n",
    "    s[s < 0 ] = 0\n",
    "    s = s.round().astype(int)\n",
    "\n",
    "    return s"
   ]
  },
  {
   "cell_type": "code",
   "execution_count": 5,
   "metadata": {},
   "outputs": [],
   "source": [
    "# Function to convert predictions into submission csv\n",
    "def convert_to_sub_csv(preds_df, method, is_negative = False) :\n",
    "    df_converted = preds_df[[\"unique_id\", \"ds\", method]].pivot(index = \"unique_id\", columns = \"ds\", values = method)\n",
    "\n",
    "    # Change col names back to day ints\n",
    "    day_to_d = dict(zip(list(df_converted.columns), list(df_sample_sub.columns[1:])))\n",
    "    df_converted = df_converted.rename(day_to_d, axis = 1).reset_index()\n",
    "\n",
    "    # Round up to nearest int\n",
    "    df_converted.iloc[:, 1:] = df_converted.iloc[:, 1:].round().astype(int)    \n",
    "\n",
    "    # Sort into the original ordering by ID\n",
    "    df_converted[[\"category\", \"store\", \"num\", \"region\", \"num_2\"]] = df_converted[\"unique_id\"].str.split(\"_\", expand = True)\n",
    "    df_converted[\"region\"] = pd.Categorical(df_converted[\"region\"], [\"East\", \"Central\", \"West\"])\n",
    "    df_converted = df_converted.sort_values(by = [\"region\", \"num_2\", \"category\", \"store\", \"num\"])\n",
    "    df_converted = df_converted.drop([\"category\", \"store\", \"num\", \"region\", \"num_2\"], axis =1)\n",
    "\n",
    "    # Rename ID col\n",
    "    df_converted = df_converted.rename(columns = {\"unique_id\" : \"id\"})\n",
    "\n",
    "    return df_converted"
   ]
  },
  {
   "cell_type": "code",
   "execution_count": 6,
   "metadata": {},
   "outputs": [],
   "source": [
    "# Convert to appropriate datatypes\n",
    "df_train[\"id\"] = df_train[\"id\"].astype(\"string\")\n",
    "df_train[\"item_id\"] = df_train[\"item_id\"].astype(\"string\")\n",
    "df_train[\"subcat_id\"] = df_train[\"subcat_id\"].astype(\"string\")\n",
    "df_train[\"category_id\"] = df_train[\"category_id\"].astype(\"string\")\n",
    "df_train[\"store_id\"] = df_train[\"store_id\"].astype(\"string\")\n",
    "df_train[\"region_id\"] = df_train[\"region_id\"].astype(\"string\")\n",
    "\n",
    "\n",
    "# Change dtypes\n",
    "df_cal[\"date\"] = pd.to_datetime(df_cal[\"date\"])\n",
    "df_cal[\"weekday\"] = df_cal[\"weekday\"].astype(\"string\")\n",
    "df_cal[\"d\"] = df_cal[\"d\"].astype(\"string\")\n",
    "df_cal[\"wm_yr_wk\"] = df_cal[\"wm_yr_wk\"].astype(int)\n",
    "\n",
    "# Add column with months in string\n",
    "month_names_ls = [\"Jan\", \"Feb\", \"Mar\", \"Apr\", \"May\", \"Jun\", \"Jul\", \"Aug\", \"Sep\", \"Oct\", \"Nov\", \"Dec\"]\n",
    "month_int_ls = list(range(1, 13))\n",
    "month_names_dict = {month_int_ls[i]: month_names_ls[i] for i in range(len(month_int_ls))}\n",
    "\n",
    "df_cal[\"month_name\"] = df_cal[\"month\"].replace(month_names_dict)"
   ]
  },
  {
   "cell_type": "code",
   "execution_count": 7,
   "metadata": {},
   "outputs": [],
   "source": [
    "df_dates[\"d\"] = df_dates[\"d\"].astype(\"string\")\n",
    "df_dates[\"date\"] = pd.to_datetime(df_dates[\"date\"])"
   ]
  },
  {
   "cell_type": "markdown",
   "metadata": {},
   "source": [
    "#### Super Naive models (and more):\n",
    "- Items sold same as previous 21 days\n",
    "\n",
    "Kaggle score: 2.81"
   ]
  },
  {
   "cell_type": "code",
   "execution_count": 4,
   "metadata": {},
   "outputs": [],
   "source": [
    "df_sample_sub.iloc[:,1:] = df_train.iloc[:, -21:].values"
   ]
  },
  {
   "cell_type": "code",
   "execution_count": 5,
   "metadata": {},
   "outputs": [],
   "source": [
    "# df_sample_sub.to_csv(EXPORT_PATH+\"/submission_4.csv\", header=True, index=False)"
   ]
  },
  {
   "cell_type": "markdown",
   "metadata": {},
   "source": [
    "- Items sold same as previous 21 days + 1\n",
    "\n",
    "Kaggle score: 2.95"
   ]
  },
  {
   "cell_type": "code",
   "execution_count": 6,
   "metadata": {},
   "outputs": [],
   "source": [
    "df_sample_sub.iloc[:,1:] = df_train.iloc[:, -21:].values+1"
   ]
  },
  {
   "cell_type": "code",
   "execution_count": 7,
   "metadata": {},
   "outputs": [],
   "source": [
    "# df_sample_sub.to_csv(EXPORT_PATH+\"/submission_5.csv\", header=True, index=False)"
   ]
  },
  {
   "attachments": {},
   "cell_type": "markdown",
   "metadata": {},
   "source": [
    "#### Using the averaged differences from the same time period of the past 4 years, then add to 2015 to predict for 2016"
   ]
  },
  {
   "cell_type": "code",
   "execution_count": 8,
   "metadata": {},
   "outputs": [
    {
     "data": {
      "text/html": [
       "<div>\n",
       "<style scoped>\n",
       "    .dataframe tbody tr th:only-of-type {\n",
       "        vertical-align: middle;\n",
       "    }\n",
       "\n",
       "    .dataframe tbody tr th {\n",
       "        vertical-align: top;\n",
       "    }\n",
       "\n",
       "    .dataframe thead th {\n",
       "        text-align: right;\n",
       "    }\n",
       "</style>\n",
       "<table border=\"1\" class=\"dataframe\">\n",
       "  <thead>\n",
       "    <tr style=\"text-align: right;\">\n",
       "      <th></th>\n",
       "      <th>id</th>\n",
       "      <th>item_id</th>\n",
       "      <th>subcat_id</th>\n",
       "      <th>category_id</th>\n",
       "      <th>store_id</th>\n",
       "      <th>region_id</th>\n",
       "      <th>2011-01-29 00:00:00</th>\n",
       "      <th>2011-01-30 00:00:00</th>\n",
       "      <th>2011-01-31 00:00:00</th>\n",
       "      <th>2011-02-01 00:00:00</th>\n",
       "      <th>...</th>\n",
       "      <th>2016-04-21 00:00:00</th>\n",
       "      <th>2016-04-22 00:00:00</th>\n",
       "      <th>2016-04-23 00:00:00</th>\n",
       "      <th>2016-04-24 00:00:00</th>\n",
       "      <th>2016-04-25 00:00:00</th>\n",
       "      <th>2016-04-26 00:00:00</th>\n",
       "      <th>2016-04-27 00:00:00</th>\n",
       "      <th>2016-04-28 00:00:00</th>\n",
       "      <th>2016-04-29 00:00:00</th>\n",
       "      <th>2016-04-30 00:00:00</th>\n",
       "    </tr>\n",
       "  </thead>\n",
       "  <tbody>\n",
       "    <tr>\n",
       "      <th>0</th>\n",
       "      <td>Beauty_1_001_East_1</td>\n",
       "      <td>Beauty_1_001</td>\n",
       "      <td>Beauty_1</td>\n",
       "      <td>Beauty</td>\n",
       "      <td>East_1</td>\n",
       "      <td>East</td>\n",
       "      <td>0</td>\n",
       "      <td>0</td>\n",
       "      <td>0</td>\n",
       "      <td>0</td>\n",
       "      <td>...</td>\n",
       "      <td>3</td>\n",
       "      <td>0</td>\n",
       "      <td>1</td>\n",
       "      <td>1</td>\n",
       "      <td>0</td>\n",
       "      <td>0</td>\n",
       "      <td>0</td>\n",
       "      <td>2</td>\n",
       "      <td>0</td>\n",
       "      <td>3</td>\n",
       "    </tr>\n",
       "    <tr>\n",
       "      <th>1</th>\n",
       "      <td>Beauty_1_002_East_1</td>\n",
       "      <td>Beauty_1_002</td>\n",
       "      <td>Beauty_1</td>\n",
       "      <td>Beauty</td>\n",
       "      <td>East_1</td>\n",
       "      <td>East</td>\n",
       "      <td>0</td>\n",
       "      <td>0</td>\n",
       "      <td>0</td>\n",
       "      <td>0</td>\n",
       "      <td>...</td>\n",
       "      <td>0</td>\n",
       "      <td>0</td>\n",
       "      <td>0</td>\n",
       "      <td>0</td>\n",
       "      <td>0</td>\n",
       "      <td>1</td>\n",
       "      <td>0</td>\n",
       "      <td>0</td>\n",
       "      <td>0</td>\n",
       "      <td>0</td>\n",
       "    </tr>\n",
       "    <tr>\n",
       "      <th>2</th>\n",
       "      <td>Beauty_1_003_East_1</td>\n",
       "      <td>Beauty_1_003</td>\n",
       "      <td>Beauty_1</td>\n",
       "      <td>Beauty</td>\n",
       "      <td>East_1</td>\n",
       "      <td>East</td>\n",
       "      <td>0</td>\n",
       "      <td>0</td>\n",
       "      <td>0</td>\n",
       "      <td>0</td>\n",
       "      <td>...</td>\n",
       "      <td>0</td>\n",
       "      <td>1</td>\n",
       "      <td>1</td>\n",
       "      <td>1</td>\n",
       "      <td>0</td>\n",
       "      <td>0</td>\n",
       "      <td>1</td>\n",
       "      <td>1</td>\n",
       "      <td>0</td>\n",
       "      <td>2</td>\n",
       "    </tr>\n",
       "    <tr>\n",
       "      <th>3</th>\n",
       "      <td>Beauty_1_004_East_1</td>\n",
       "      <td>Beauty_1_004</td>\n",
       "      <td>Beauty_1</td>\n",
       "      <td>Beauty</td>\n",
       "      <td>East_1</td>\n",
       "      <td>East</td>\n",
       "      <td>0</td>\n",
       "      <td>0</td>\n",
       "      <td>0</td>\n",
       "      <td>0</td>\n",
       "      <td>...</td>\n",
       "      <td>1</td>\n",
       "      <td>3</td>\n",
       "      <td>7</td>\n",
       "      <td>2</td>\n",
       "      <td>0</td>\n",
       "      <td>0</td>\n",
       "      <td>1</td>\n",
       "      <td>2</td>\n",
       "      <td>4</td>\n",
       "      <td>1</td>\n",
       "    </tr>\n",
       "    <tr>\n",
       "      <th>4</th>\n",
       "      <td>Beauty_1_005_East_1</td>\n",
       "      <td>Beauty_1_005</td>\n",
       "      <td>Beauty_1</td>\n",
       "      <td>Beauty</td>\n",
       "      <td>East_1</td>\n",
       "      <td>East</td>\n",
       "      <td>0</td>\n",
       "      <td>0</td>\n",
       "      <td>0</td>\n",
       "      <td>0</td>\n",
       "      <td>...</td>\n",
       "      <td>2</td>\n",
       "      <td>2</td>\n",
       "      <td>2</td>\n",
       "      <td>4</td>\n",
       "      <td>1</td>\n",
       "      <td>0</td>\n",
       "      <td>2</td>\n",
       "      <td>3</td>\n",
       "      <td>1</td>\n",
       "      <td>0</td>\n",
       "    </tr>\n",
       "  </tbody>\n",
       "</table>\n",
       "<p>5 rows × 1925 columns</p>\n",
       "</div>"
      ],
      "text/plain": [
       "                    id       item_id subcat_id category_id store_id region_id  \\\n",
       "0  Beauty_1_001_East_1  Beauty_1_001  Beauty_1      Beauty   East_1      East   \n",
       "1  Beauty_1_002_East_1  Beauty_1_002  Beauty_1      Beauty   East_1      East   \n",
       "2  Beauty_1_003_East_1  Beauty_1_003  Beauty_1      Beauty   East_1      East   \n",
       "3  Beauty_1_004_East_1  Beauty_1_004  Beauty_1      Beauty   East_1      East   \n",
       "4  Beauty_1_005_East_1  Beauty_1_005  Beauty_1      Beauty   East_1      East   \n",
       "\n",
       "   2011-01-29 00:00:00  2011-01-30 00:00:00  2011-01-31 00:00:00  \\\n",
       "0                    0                    0                    0   \n",
       "1                    0                    0                    0   \n",
       "2                    0                    0                    0   \n",
       "3                    0                    0                    0   \n",
       "4                    0                    0                    0   \n",
       "\n",
       "   2011-02-01 00:00:00  ...  2016-04-21 00:00:00  2016-04-22 00:00:00  \\\n",
       "0                    0  ...                    3                    0   \n",
       "1                    0  ...                    0                    0   \n",
       "2                    0  ...                    0                    1   \n",
       "3                    0  ...                    1                    3   \n",
       "4                    0  ...                    2                    2   \n",
       "\n",
       "   2016-04-23 00:00:00  2016-04-24 00:00:00  2016-04-25 00:00:00  \\\n",
       "0                    1                    1                    0   \n",
       "1                    0                    0                    0   \n",
       "2                    1                    1                    0   \n",
       "3                    7                    2                    0   \n",
       "4                    2                    4                    1   \n",
       "\n",
       "   2016-04-26 00:00:00  2016-04-27 00:00:00  2016-04-28 00:00:00  \\\n",
       "0                    0                    0                    2   \n",
       "1                    1                    0                    0   \n",
       "2                    0                    1                    1   \n",
       "3                    0                    1                    2   \n",
       "4                    0                    2                    3   \n",
       "\n",
       "   2016-04-29 00:00:00  2016-04-30 00:00:00  \n",
       "0                    0                    3  \n",
       "1                    0                    0  \n",
       "2                    0                    2  \n",
       "3                    4                    1  \n",
       "4                    1                    0  \n",
       "\n",
       "[5 rows x 1925 columns]"
      ]
     },
     "execution_count": 8,
     "metadata": {},
     "output_type": "execute_result"
    }
   ],
   "source": [
    "dates_dict = dict(zip(list(df_dates[\"d\"]), list(df_dates[\"date\"])))\n",
    "df_train_dates = df_train.rename(dates_dict, axis = 1)\n",
    "\n",
    "df_train_dates.head()"
   ]
  },
  {
   "cell_type": "code",
   "execution_count": 12,
   "metadata": {},
   "outputs": [],
   "source": [
    "year_1_dates = pd.date_range(start=\"2011-05-01\", end = \"2011-05-21\")\n",
    "year_2_dates = pd.date_range(start=\"2012-05-01\", end = \"2012-05-21\")\n",
    "year_3_dates = pd.date_range(start=\"2013-05-01\", end = \"2013-05-21\")\n",
    "year_4_dates = pd.date_range(start=\"2014-05-01\", end = \"2014-05-21\")\n",
    "year_5_dates = pd.date_range(start=\"2015-05-01\", end = \"2015-05-21\")\n",
    "\n",
    "year_1_df = df_train_dates.loc[:, year_1_dates]\n",
    "year_2_df = df_train_dates.loc[:, year_2_dates]\n",
    "year_3_df = df_train_dates.loc[:, year_3_dates]\n",
    "year_4_df = df_train_dates.loc[:, year_4_dates]\n",
    "year_5_df = df_train_dates.loc[:, year_5_dates]"
   ]
  },
  {
   "cell_type": "code",
   "execution_count": 23,
   "metadata": {},
   "outputs": [
    {
     "name": "stderr",
     "output_type": "stream",
     "text": [
      "c:\\Users\\Tristan\\Desktop\\Assignments\\ADS\\ads-final-project\\ads_env\\lib\\site-packages\\ipykernel_launcher.py:1: PerformanceWarning: DataFrame is highly fragmented.  This is usually the result of calling `frame.insert` many times, which has poor performance.  Consider joining all columns at once using pd.concat(axis=1) instead.  To get a de-fragmented frame, use `newframe = frame.copy()`\n",
      "  \"\"\"Entry point for launching an IPython kernel.\n"
     ]
    }
   ],
   "source": [
    "df_train_dates_diff_year = df_train_dates.iloc[:, 6:].diff(365, axis = 1).dropna(axis = 1)\n",
    "df_train_dates_diff_year[\"id\"] = df_train_dates[\"id\"]"
   ]
  },
  {
   "cell_type": "code",
   "execution_count": 25,
   "metadata": {},
   "outputs": [],
   "source": [
    "# This contains the difference for the 21 days in year 2 compared to year 1\n",
    "year_2_df = df_train_dates_diff_year.loc[:, year_2_dates]\n",
    "\n",
    "# Etc\n",
    "year_3_df = df_train_dates_diff_year.loc[:, year_3_dates]\n",
    "year_4_df = df_train_dates_diff_year.loc[:, year_4_dates]\n",
    "year_5_df = df_train_dates_diff_year.loc[:, year_5_dates]"
   ]
  },
  {
   "cell_type": "code",
   "execution_count": 43,
   "metadata": {},
   "outputs": [],
   "source": [
    "# Convert back to day_n to add different cols together\n",
    "year_2_dict = dict(zip(list(year_2_df.columns), list(range(0, 21))))\n",
    "year_3_dict = dict(zip(list(year_3_df.columns), list(range(0, 21))))\n",
    "year_4_dict = dict(zip(list(year_4_df.columns), list(range(0, 21))))\n",
    "year_5_dict = dict(zip(list(year_5_df.columns), list(range(0, 21))))\n",
    "\n",
    "year_2_df = year_2_df.rename(year_2_dict, axis = 1)\n",
    "year_3_df = year_3_df.rename(year_3_dict, axis = 1)\n",
    "year_4_df = year_4_df.rename(year_4_dict, axis = 1)\n",
    "year_5_df = year_5_df.rename(year_5_dict, axis = 1)"
   ]
  },
  {
   "cell_type": "code",
   "execution_count": 49,
   "metadata": {},
   "outputs": [],
   "source": [
    "sum_df = year_2_df.add(year_3_df, axis = 1)\n",
    "sum_df = sum_df.add(year_4_df, axis = 1)\n",
    "sum_df = sum_df.add(year_5_df, axis = 1)\n",
    "\n",
    "averaged_df = sum_df.div(4)"
   ]
  },
  {
   "cell_type": "code",
   "execution_count": 68,
   "metadata": {},
   "outputs": [
    {
     "data": {
      "text/html": [
       "<div>\n",
       "<style scoped>\n",
       "    .dataframe tbody tr th:only-of-type {\n",
       "        vertical-align: middle;\n",
       "    }\n",
       "\n",
       "    .dataframe tbody tr th {\n",
       "        vertical-align: top;\n",
       "    }\n",
       "\n",
       "    .dataframe thead th {\n",
       "        text-align: right;\n",
       "    }\n",
       "</style>\n",
       "<table border=\"1\" class=\"dataframe\">\n",
       "  <thead>\n",
       "    <tr style=\"text-align: right;\">\n",
       "      <th></th>\n",
       "      <th>0</th>\n",
       "      <th>1</th>\n",
       "      <th>2</th>\n",
       "      <th>3</th>\n",
       "      <th>4</th>\n",
       "      <th>5</th>\n",
       "      <th>6</th>\n",
       "      <th>7</th>\n",
       "      <th>8</th>\n",
       "      <th>9</th>\n",
       "      <th>...</th>\n",
       "      <th>11</th>\n",
       "      <th>12</th>\n",
       "      <th>13</th>\n",
       "      <th>14</th>\n",
       "      <th>15</th>\n",
       "      <th>16</th>\n",
       "      <th>17</th>\n",
       "      <th>18</th>\n",
       "      <th>19</th>\n",
       "      <th>20</th>\n",
       "    </tr>\n",
       "  </thead>\n",
       "  <tbody>\n",
       "    <tr>\n",
       "      <th>0</th>\n",
       "      <td>1</td>\n",
       "      <td>1</td>\n",
       "      <td>2</td>\n",
       "      <td>0</td>\n",
       "      <td>0</td>\n",
       "      <td>0</td>\n",
       "      <td>0</td>\n",
       "      <td>0</td>\n",
       "      <td>0</td>\n",
       "      <td>0</td>\n",
       "      <td>...</td>\n",
       "      <td>0</td>\n",
       "      <td>0</td>\n",
       "      <td>0</td>\n",
       "      <td>0</td>\n",
       "      <td>0</td>\n",
       "      <td>0</td>\n",
       "      <td>0</td>\n",
       "      <td>0</td>\n",
       "      <td>0</td>\n",
       "      <td>0</td>\n",
       "    </tr>\n",
       "    <tr>\n",
       "      <th>1</th>\n",
       "      <td>0</td>\n",
       "      <td>0</td>\n",
       "      <td>1</td>\n",
       "      <td>0</td>\n",
       "      <td>1</td>\n",
       "      <td>0</td>\n",
       "      <td>0</td>\n",
       "      <td>1</td>\n",
       "      <td>0</td>\n",
       "      <td>0</td>\n",
       "      <td>...</td>\n",
       "      <td>0</td>\n",
       "      <td>1</td>\n",
       "      <td>0</td>\n",
       "      <td>0</td>\n",
       "      <td>0</td>\n",
       "      <td>0</td>\n",
       "      <td>0</td>\n",
       "      <td>4</td>\n",
       "      <td>0</td>\n",
       "      <td>1</td>\n",
       "    </tr>\n",
       "    <tr>\n",
       "      <th>2</th>\n",
       "      <td>0</td>\n",
       "      <td>1</td>\n",
       "      <td>0</td>\n",
       "      <td>0</td>\n",
       "      <td>1</td>\n",
       "      <td>0</td>\n",
       "      <td>0</td>\n",
       "      <td>0</td>\n",
       "      <td>1</td>\n",
       "      <td>0</td>\n",
       "      <td>...</td>\n",
       "      <td>0</td>\n",
       "      <td>0</td>\n",
       "      <td>1</td>\n",
       "      <td>0</td>\n",
       "      <td>1</td>\n",
       "      <td>0</td>\n",
       "      <td>1</td>\n",
       "      <td>0</td>\n",
       "      <td>0</td>\n",
       "      <td>1</td>\n",
       "    </tr>\n",
       "    <tr>\n",
       "      <th>3</th>\n",
       "      <td>0</td>\n",
       "      <td>6</td>\n",
       "      <td>7</td>\n",
       "      <td>0</td>\n",
       "      <td>0</td>\n",
       "      <td>0</td>\n",
       "      <td>0</td>\n",
       "      <td>2</td>\n",
       "      <td>9</td>\n",
       "      <td>3</td>\n",
       "      <td>...</td>\n",
       "      <td>0</td>\n",
       "      <td>0</td>\n",
       "      <td>0</td>\n",
       "      <td>2</td>\n",
       "      <td>3</td>\n",
       "      <td>0</td>\n",
       "      <td>0</td>\n",
       "      <td>0</td>\n",
       "      <td>0</td>\n",
       "      <td>0</td>\n",
       "    </tr>\n",
       "    <tr>\n",
       "      <th>4</th>\n",
       "      <td>2</td>\n",
       "      <td>4</td>\n",
       "      <td>2</td>\n",
       "      <td>2</td>\n",
       "      <td>0</td>\n",
       "      <td>0</td>\n",
       "      <td>0</td>\n",
       "      <td>0</td>\n",
       "      <td>0</td>\n",
       "      <td>0</td>\n",
       "      <td>...</td>\n",
       "      <td>0</td>\n",
       "      <td>0</td>\n",
       "      <td>0</td>\n",
       "      <td>0</td>\n",
       "      <td>0</td>\n",
       "      <td>2</td>\n",
       "      <td>0</td>\n",
       "      <td>0</td>\n",
       "      <td>0</td>\n",
       "      <td>0</td>\n",
       "    </tr>\n",
       "  </tbody>\n",
       "</table>\n",
       "<p>5 rows × 21 columns</p>\n",
       "</div>"
      ],
      "text/plain": [
       "   0   1   2   3   4   5   6   7   8   9   ...  11  12  13  14  15  16  17  \\\n",
       "0   1   1   2   0   0   0   0   0   0   0  ...   0   0   0   0   0   0   0   \n",
       "1   0   0   1   0   1   0   0   1   0   0  ...   0   1   0   0   0   0   0   \n",
       "2   0   1   0   0   1   0   0   0   1   0  ...   0   0   1   0   1   0   1   \n",
       "3   0   6   7   0   0   0   0   2   9   3  ...   0   0   0   2   3   0   0   \n",
       "4   2   4   2   2   0   0   0   0   0   0  ...   0   0   0   0   0   2   0   \n",
       "\n",
       "   18  19  20  \n",
       "0   0   0   0  \n",
       "1   4   0   1  \n",
       "2   0   0   1  \n",
       "3   0   0   0  \n",
       "4   0   0   0  \n",
       "\n",
       "[5 rows x 21 columns]"
      ]
     },
     "execution_count": 68,
     "metadata": {},
     "output_type": "execute_result"
    }
   ],
   "source": [
    "df_sample_sub.iloc[:, 1:] = averaged_df.add(year_5_df, axis = 1).round().astype(int).apply(round_positive).values"
   ]
  },
  {
   "cell_type": "code",
   "execution_count": 72,
   "metadata": {},
   "outputs": [],
   "source": [
    "# df_sample_sub.to_csv(EXPORT_PATH+\"/submission_24.csv\", header=True, index=False)"
   ]
  },
  {
   "cell_type": "markdown",
   "metadata": {},
   "source": [
    "### Forecasting using naive methods from statsmodels\n",
    "\n",
    "From [here](https://forecastegy.com/posts/naive-time-series-forecasting-in-python/#:~:text=the%20older%20ones.-,Seasonal%20Naive%20Forecast,than%20the%20simple%20naive%20model.)"
   ]
  },
  {
   "cell_type": "code",
   "execution_count": 54,
   "metadata": {},
   "outputs": [
    {
     "data": {
      "text/html": [
       "<div>\n",
       "<style scoped>\n",
       "    .dataframe tbody tr th:only-of-type {\n",
       "        vertical-align: middle;\n",
       "    }\n",
       "\n",
       "    .dataframe tbody tr th {\n",
       "        vertical-align: top;\n",
       "    }\n",
       "\n",
       "    .dataframe thead th {\n",
       "        text-align: right;\n",
       "    }\n",
       "</style>\n",
       "<table border=\"1\" class=\"dataframe\">\n",
       "  <thead>\n",
       "    <tr style=\"text-align: right;\">\n",
       "      <th></th>\n",
       "      <th>unique_id</th>\n",
       "      <th>ds</th>\n",
       "      <th>y</th>\n",
       "    </tr>\n",
       "  </thead>\n",
       "  <tbody>\n",
       "    <tr>\n",
       "      <th>0</th>\n",
       "      <td>Beauty_1_001_East_1</td>\n",
       "      <td>2011-01-29</td>\n",
       "      <td>0</td>\n",
       "    </tr>\n",
       "    <tr>\n",
       "      <th>1</th>\n",
       "      <td>Beauty_1_002_East_1</td>\n",
       "      <td>2011-01-29</td>\n",
       "      <td>0</td>\n",
       "    </tr>\n",
       "    <tr>\n",
       "      <th>2</th>\n",
       "      <td>Beauty_1_003_East_1</td>\n",
       "      <td>2011-01-29</td>\n",
       "      <td>0</td>\n",
       "    </tr>\n",
       "    <tr>\n",
       "      <th>3</th>\n",
       "      <td>Beauty_1_004_East_1</td>\n",
       "      <td>2011-01-29</td>\n",
       "      <td>0</td>\n",
       "    </tr>\n",
       "    <tr>\n",
       "      <th>4</th>\n",
       "      <td>Beauty_1_005_East_1</td>\n",
       "      <td>2011-01-29</td>\n",
       "      <td>0</td>\n",
       "    </tr>\n",
       "  </tbody>\n",
       "</table>\n",
       "</div>"
      ],
      "text/plain": [
       "             unique_id         ds  y\n",
       "0  Beauty_1_001_East_1 2011-01-29  0\n",
       "1  Beauty_1_002_East_1 2011-01-29  0\n",
       "2  Beauty_1_003_East_1 2011-01-29  0\n",
       "3  Beauty_1_004_East_1 2011-01-29  0\n",
       "4  Beauty_1_005_East_1 2011-01-29  0"
      ]
     },
     "execution_count": 54,
     "metadata": {},
     "output_type": "execute_result"
    }
   ],
   "source": [
    "df_naive_train = df_train_dates[[\"id\"] + list(df_train_dates.columns[6:])].melt(id_vars = [\"id\"], var_name= \"ds\", value_name = \"y\")\n",
    "df_naive_train = df_naive_train.rename(columns = {\"id\":\"unique_id\"})\n",
    "df_naive_train.head()"
   ]
  },
  {
   "attachments": {},
   "cell_type": "markdown",
   "metadata": {},
   "source": [
    "#### Testing RMSE on train / test validation set \n",
    "\n",
    "With Naive, SeasonalNaive, WindowAverage, Seasonal Window Average\n",
    "- seasonal length 7 days"
   ]
  },
  {
   "cell_type": "code",
   "execution_count": 7,
   "metadata": {},
   "outputs": [],
   "source": [
    "# Split into train and validation \n",
    "train = df_naive_train.loc[df_naive_train['ds'] < '2015-01-29']\n",
    "valid = df_naive_train.loc[(df_naive_train['ds'] >= '2015-01-29')]\n",
    "h = valid['ds'].nunique()"
   ]
  },
  {
   "cell_type": "code",
   "execution_count": 18,
   "metadata": {},
   "outputs": [
    {
     "data": {
      "text/plain": [
       "StatsForecast(models=[Naive,SeasonalNaive,WindowAverage,SeasWA])"
      ]
     },
     "execution_count": 18,
     "metadata": {},
     "output_type": "execute_result"
    }
   ],
   "source": [
    "model = StatsForecast(models=[Naive(), \n",
    "                              SeasonalNaive(season_length=7), \n",
    "                              WindowAverage(window_size=7), \n",
    "                              SeasonalWindowAverage(window_size=2, season_length=7)],\n",
    "                      freq='D', n_jobs=-1)\n",
    "model.fit(train)"
   ]
  },
  {
   "cell_type": "code",
   "execution_count": 19,
   "metadata": {},
   "outputs": [
    {
     "data": {
      "text/html": [
       "<div>\n",
       "<style scoped>\n",
       "    .dataframe tbody tr th:only-of-type {\n",
       "        vertical-align: middle;\n",
       "    }\n",
       "\n",
       "    .dataframe tbody tr th {\n",
       "        vertical-align: top;\n",
       "    }\n",
       "\n",
       "    .dataframe thead th {\n",
       "        text-align: right;\n",
       "    }\n",
       "</style>\n",
       "<table border=\"1\" class=\"dataframe\">\n",
       "  <thead>\n",
       "    <tr style=\"text-align: right;\">\n",
       "      <th></th>\n",
       "      <th>unique_id</th>\n",
       "      <th>ds</th>\n",
       "      <th>Naive</th>\n",
       "      <th>SeasonalNaive</th>\n",
       "      <th>WindowAverage</th>\n",
       "      <th>SeasWA</th>\n",
       "      <th>y</th>\n",
       "    </tr>\n",
       "  </thead>\n",
       "  <tbody>\n",
       "    <tr>\n",
       "      <th>0</th>\n",
       "      <td>Beauty_1_001_Central_1</td>\n",
       "      <td>2015-01-29</td>\n",
       "      <td>0.0</td>\n",
       "      <td>0.0</td>\n",
       "      <td>0.0</td>\n",
       "      <td>0.0</td>\n",
       "      <td>1</td>\n",
       "    </tr>\n",
       "    <tr>\n",
       "      <th>1</th>\n",
       "      <td>Beauty_1_001_Central_1</td>\n",
       "      <td>2015-01-30</td>\n",
       "      <td>0.0</td>\n",
       "      <td>0.0</td>\n",
       "      <td>0.0</td>\n",
       "      <td>0.0</td>\n",
       "      <td>0</td>\n",
       "    </tr>\n",
       "    <tr>\n",
       "      <th>2</th>\n",
       "      <td>Beauty_1_001_Central_1</td>\n",
       "      <td>2015-01-31</td>\n",
       "      <td>0.0</td>\n",
       "      <td>0.0</td>\n",
       "      <td>0.0</td>\n",
       "      <td>0.0</td>\n",
       "      <td>0</td>\n",
       "    </tr>\n",
       "    <tr>\n",
       "      <th>3</th>\n",
       "      <td>Beauty_1_001_Central_1</td>\n",
       "      <td>2015-02-01</td>\n",
       "      <td>0.0</td>\n",
       "      <td>0.0</td>\n",
       "      <td>0.0</td>\n",
       "      <td>0.0</td>\n",
       "      <td>1</td>\n",
       "    </tr>\n",
       "    <tr>\n",
       "      <th>4</th>\n",
       "      <td>Beauty_1_001_Central_1</td>\n",
       "      <td>2015-02-02</td>\n",
       "      <td>0.0</td>\n",
       "      <td>0.0</td>\n",
       "      <td>0.0</td>\n",
       "      <td>0.0</td>\n",
       "      <td>0</td>\n",
       "    </tr>\n",
       "  </tbody>\n",
       "</table>\n",
       "</div>"
      ],
      "text/plain": [
       "                unique_id         ds  Naive  SeasonalNaive  WindowAverage  \\\n",
       "0  Beauty_1_001_Central_1 2015-01-29    0.0            0.0            0.0   \n",
       "1  Beauty_1_001_Central_1 2015-01-30    0.0            0.0            0.0   \n",
       "2  Beauty_1_001_Central_1 2015-01-31    0.0            0.0            0.0   \n",
       "3  Beauty_1_001_Central_1 2015-02-01    0.0            0.0            0.0   \n",
       "4  Beauty_1_001_Central_1 2015-02-02    0.0            0.0            0.0   \n",
       "\n",
       "   SeasWA  y  \n",
       "0     0.0  1  \n",
       "1     0.0  0  \n",
       "2     0.0  0  \n",
       "3     0.0  1  \n",
       "4     0.0  0  "
      ]
     },
     "execution_count": 19,
     "metadata": {},
     "output_type": "execute_result"
    }
   ],
   "source": [
    "p = model.predict(h=h)\n",
    "p = p.reset_index().merge(valid, on=['ds', 'unique_id'], how='left')\n",
    "p.head()"
   ]
  },
  {
   "cell_type": "code",
   "execution_count": 21,
   "metadata": {},
   "outputs": [
    {
     "name": "stdout",
     "output_type": "stream",
     "text": [
      "4.60855218075943\n",
      "4.804250660557115\n",
      "4.49464505136421\n",
      "4.702569543222306\n"
     ]
    }
   ],
   "source": [
    "print(np.sqrt(mean_squared_error(valid[\"y\"], p[\"Naive\"])))\n",
    "print(np.sqrt(mean_squared_error(valid[\"y\"], p[\"SeasonalNaive\"])))\n",
    "print(np.sqrt(mean_squared_error(valid[\"y\"], p[\"WindowAverage\"])))\n",
    "print(np.sqrt(mean_squared_error(valid[\"y\"], p[\"SeasWA\"])))"
   ]
  },
  {
   "attachments": {},
   "cell_type": "markdown",
   "metadata": {},
   "source": [
    "### Trying with different seasonal and window lengths\n",
    "With SeasonalNaive, WindowAverage, Seasonal Window Average\n",
    "- seasonal length 7 days"
   ]
  },
  {
   "cell_type": "code",
   "execution_count": 8,
   "metadata": {},
   "outputs": [
    {
     "data": {
      "text/plain": [
       "StatsForecast(models=[SeasonalNaive,WindowAverage,SeasWA])"
      ]
     },
     "execution_count": 8,
     "metadata": {},
     "output_type": "execute_result"
    }
   ],
   "source": [
    "model_2 = StatsForecast(models=[SeasonalNaive(season_length=14), \n",
    "                              WindowAverage(window_size=14), \n",
    "                              SeasonalWindowAverage(window_size=2, season_length=7)],\n",
    "                      freq='D', n_jobs=-1)\n",
    "model_2.fit(train)"
   ]
  },
  {
   "cell_type": "code",
   "execution_count": 9,
   "metadata": {},
   "outputs": [
    {
     "data": {
      "text/html": [
       "<div>\n",
       "<style scoped>\n",
       "    .dataframe tbody tr th:only-of-type {\n",
       "        vertical-align: middle;\n",
       "    }\n",
       "\n",
       "    .dataframe tbody tr th {\n",
       "        vertical-align: top;\n",
       "    }\n",
       "\n",
       "    .dataframe thead th {\n",
       "        text-align: right;\n",
       "    }\n",
       "</style>\n",
       "<table border=\"1\" class=\"dataframe\">\n",
       "  <thead>\n",
       "    <tr style=\"text-align: right;\">\n",
       "      <th></th>\n",
       "      <th>unique_id</th>\n",
       "      <th>ds</th>\n",
       "      <th>SeasonalNaive</th>\n",
       "      <th>WindowAverage</th>\n",
       "      <th>SeasWA</th>\n",
       "      <th>y</th>\n",
       "    </tr>\n",
       "  </thead>\n",
       "  <tbody>\n",
       "    <tr>\n",
       "      <th>0</th>\n",
       "      <td>Beauty_1_001_Central_1</td>\n",
       "      <td>2015-01-29</td>\n",
       "      <td>0.0</td>\n",
       "      <td>0.0</td>\n",
       "      <td>0.0</td>\n",
       "      <td>1</td>\n",
       "    </tr>\n",
       "    <tr>\n",
       "      <th>1</th>\n",
       "      <td>Beauty_1_001_Central_1</td>\n",
       "      <td>2015-01-30</td>\n",
       "      <td>0.0</td>\n",
       "      <td>0.0</td>\n",
       "      <td>0.0</td>\n",
       "      <td>0</td>\n",
       "    </tr>\n",
       "    <tr>\n",
       "      <th>2</th>\n",
       "      <td>Beauty_1_001_Central_1</td>\n",
       "      <td>2015-01-31</td>\n",
       "      <td>0.0</td>\n",
       "      <td>0.0</td>\n",
       "      <td>0.0</td>\n",
       "      <td>0</td>\n",
       "    </tr>\n",
       "    <tr>\n",
       "      <th>3</th>\n",
       "      <td>Beauty_1_001_Central_1</td>\n",
       "      <td>2015-02-01</td>\n",
       "      <td>0.0</td>\n",
       "      <td>0.0</td>\n",
       "      <td>0.0</td>\n",
       "      <td>1</td>\n",
       "    </tr>\n",
       "    <tr>\n",
       "      <th>4</th>\n",
       "      <td>Beauty_1_001_Central_1</td>\n",
       "      <td>2015-02-02</td>\n",
       "      <td>0.0</td>\n",
       "      <td>0.0</td>\n",
       "      <td>0.0</td>\n",
       "      <td>0</td>\n",
       "    </tr>\n",
       "  </tbody>\n",
       "</table>\n",
       "</div>"
      ],
      "text/plain": [
       "                unique_id         ds  SeasonalNaive  WindowAverage  SeasWA  y\n",
       "0  Beauty_1_001_Central_1 2015-01-29            0.0            0.0     0.0  1\n",
       "1  Beauty_1_001_Central_1 2015-01-30            0.0            0.0     0.0  0\n",
       "2  Beauty_1_001_Central_1 2015-01-31            0.0            0.0     0.0  0\n",
       "3  Beauty_1_001_Central_1 2015-02-01            0.0            0.0     0.0  1\n",
       "4  Beauty_1_001_Central_1 2015-02-02            0.0            0.0     0.0  0"
      ]
     },
     "execution_count": 9,
     "metadata": {},
     "output_type": "execute_result"
    }
   ],
   "source": [
    "p_2 = model_2.predict(h=h)\n",
    "p_2 = p_2.reset_index().merge(valid, on=['ds', 'unique_id'], how='left')\n",
    "p_2.head()"
   ]
  },
  {
   "cell_type": "code",
   "execution_count": 11,
   "metadata": {},
   "outputs": [
    {
     "name": "stdout",
     "output_type": "stream",
     "text": [
      "4.869437341538874\n",
      "4.522386924418987\n",
      "4.702569543222306\n"
     ]
    }
   ],
   "source": [
    "print(np.sqrt(mean_squared_error(valid[\"y\"], p_2[\"SeasonalNaive\"])))\n",
    "print(np.sqrt(mean_squared_error(valid[\"y\"], p_2[\"WindowAverage\"])))\n",
    "print(np.sqrt(mean_squared_error(valid[\"y\"], p_2[\"SeasWA\"])))"
   ]
  },
  {
   "cell_type": "markdown",
   "metadata": {},
   "source": [
    "### Producing 21 day forecast, training on the entire train.csv"
   ]
  },
  {
   "cell_type": "code",
   "execution_count": 44,
   "metadata": {},
   "outputs": [],
   "source": [
    "model_full = StatsForecast(df = df_naive_train, \n",
    "                        models=[Naive(), \n",
    "                              SeasonalNaive(season_length=7), \n",
    "                              WindowAverage(window_size=7), \n",
    "                              SeasonalWindowAverage(window_size=2, season_length=7)],\n",
    "                      freq='D', n_jobs=-1)"
   ]
  },
  {
   "cell_type": "code",
   "execution_count": 45,
   "metadata": {},
   "outputs": [
    {
     "data": {
      "text/html": [
       "<div>\n",
       "<style scoped>\n",
       "    .dataframe tbody tr th:only-of-type {\n",
       "        vertical-align: middle;\n",
       "    }\n",
       "\n",
       "    .dataframe tbody tr th {\n",
       "        vertical-align: top;\n",
       "    }\n",
       "\n",
       "    .dataframe thead th {\n",
       "        text-align: right;\n",
       "    }\n",
       "</style>\n",
       "<table border=\"1\" class=\"dataframe\">\n",
       "  <thead>\n",
       "    <tr style=\"text-align: right;\">\n",
       "      <th></th>\n",
       "      <th>unique_id</th>\n",
       "      <th>ds</th>\n",
       "      <th>Naive</th>\n",
       "      <th>SeasonalNaive</th>\n",
       "      <th>WindowAverage</th>\n",
       "      <th>SeasWA</th>\n",
       "    </tr>\n",
       "  </thead>\n",
       "  <tbody>\n",
       "    <tr>\n",
       "      <th>0</th>\n",
       "      <td>Beauty_1_001_Central_1</td>\n",
       "      <td>2016-05-01</td>\n",
       "      <td>0.0</td>\n",
       "      <td>2.0</td>\n",
       "      <td>0.571429</td>\n",
       "      <td>1.0</td>\n",
       "    </tr>\n",
       "    <tr>\n",
       "      <th>1</th>\n",
       "      <td>Beauty_1_001_Central_1</td>\n",
       "      <td>2016-05-02</td>\n",
       "      <td>0.0</td>\n",
       "      <td>0.0</td>\n",
       "      <td>0.571429</td>\n",
       "      <td>0.0</td>\n",
       "    </tr>\n",
       "    <tr>\n",
       "      <th>2</th>\n",
       "      <td>Beauty_1_001_Central_1</td>\n",
       "      <td>2016-05-03</td>\n",
       "      <td>0.0</td>\n",
       "      <td>0.0</td>\n",
       "      <td>0.571429</td>\n",
       "      <td>0.5</td>\n",
       "    </tr>\n",
       "    <tr>\n",
       "      <th>3</th>\n",
       "      <td>Beauty_1_001_Central_1</td>\n",
       "      <td>2016-05-04</td>\n",
       "      <td>0.0</td>\n",
       "      <td>0.0</td>\n",
       "      <td>0.571429</td>\n",
       "      <td>0.0</td>\n",
       "    </tr>\n",
       "    <tr>\n",
       "      <th>4</th>\n",
       "      <td>Beauty_1_001_Central_1</td>\n",
       "      <td>2016-05-05</td>\n",
       "      <td>0.0</td>\n",
       "      <td>2.0</td>\n",
       "      <td>0.571429</td>\n",
       "      <td>1.5</td>\n",
       "    </tr>\n",
       "  </tbody>\n",
       "</table>\n",
       "</div>"
      ],
      "text/plain": [
       "                unique_id         ds  Naive  SeasonalNaive  WindowAverage  \\\n",
       "0  Beauty_1_001_Central_1 2016-05-01    0.0            2.0       0.571429   \n",
       "1  Beauty_1_001_Central_1 2016-05-02    0.0            0.0       0.571429   \n",
       "2  Beauty_1_001_Central_1 2016-05-03    0.0            0.0       0.571429   \n",
       "3  Beauty_1_001_Central_1 2016-05-04    0.0            0.0       0.571429   \n",
       "4  Beauty_1_001_Central_1 2016-05-05    0.0            2.0       0.571429   \n",
       "\n",
       "   SeasWA  \n",
       "0     1.0  \n",
       "1     0.0  \n",
       "2     0.5  \n",
       "3     0.0  \n",
       "4     1.5  "
      ]
     },
     "execution_count": 45,
     "metadata": {},
     "output_type": "execute_result"
    }
   ],
   "source": [
    "preds_full = model_full.forecast(h = 21)\n",
    "preds_full = preds_full.reset_index()\n",
    "preds_full.head()"
   ]
  },
  {
   "cell_type": "markdown",
   "metadata": {},
   "source": [
    "#### Exporting seasonal window average"
   ]
  },
  {
   "cell_type": "code",
   "execution_count": null,
   "metadata": {},
   "outputs": [],
   "source": [
    "df_seaswa = convert_to_sub_csv(preds_full, \"SeasWA\")"
   ]
  },
  {
   "cell_type": "code",
   "execution_count": null,
   "metadata": {},
   "outputs": [],
   "source": [
    "# df_seaswa.to_csv(EXPORT_PATH+\"/submission_6.csv\", header=True, index=False)"
   ]
  },
  {
   "cell_type": "code",
   "execution_count": null,
   "metadata": {},
   "outputs": [],
   "source": [
    "df_wa = convert_to_sub_csv(preds_full, \"WindowAverage\")"
   ]
  },
  {
   "cell_type": "code",
   "execution_count": null,
   "metadata": {},
   "outputs": [],
   "source": [
    "# df_wa.to_csv(EXPORT_PATH+\"/submission_10.csv\", header=True, index=False)"
   ]
  },
  {
   "cell_type": "code",
   "execution_count": null,
   "metadata": {},
   "outputs": [],
   "source": [
    "df_naive = convert_to_sub_csv(preds_full, \"Naive\")"
   ]
  },
  {
   "cell_type": "code",
   "execution_count": null,
   "metadata": {},
   "outputs": [],
   "source": [
    "# df_naive.to_csv(EXPORT_PATH+\"/submission_8.csv\", header=True, index=False)"
   ]
  },
  {
   "cell_type": "code",
   "execution_count": null,
   "metadata": {},
   "outputs": [],
   "source": [
    "df_s_naive = convert_to_sub_csv(preds_full, \"SeasonalNaive\")"
   ]
  },
  {
   "cell_type": "code",
   "execution_count": null,
   "metadata": {},
   "outputs": [],
   "source": [
    "# df_naive.to_csv(EXPORT_PATH+\"/submission_9.csv\", header=True, index=False)"
   ]
  },
  {
   "attachments": {},
   "cell_type": "markdown",
   "metadata": {},
   "source": [
    "### Trying with ETS models\n",
    "\n",
    "SimpleExponentialSmoothingOptimized, SeasonalExponentialSmoothingOptimized, Holt, HoltWinters"
   ]
  },
  {
   "cell_type": "code",
   "execution_count": 9,
   "metadata": {},
   "outputs": [],
   "source": [
    "# Subset the last 50% of the time series because of computation\n",
    "df_naive_train = df_naive_train.set_index(\"ds\")\n",
    "df_naive_train = df_naive_train.sort_index()\n",
    "df_naive_train[\"ds\"] = df_naive_train.index\n",
    "\n",
    "# Find midpoint\n",
    "midpoint = df_naive_train[\"ds\"].iloc[0] + ((df_naive_train[\"ds\"].iloc[-1] - df_naive_train[\"ds\"].iloc[0]) / 2)\n",
    "\n",
    "# Split into train and validation, from midpoint onwards\n",
    "df_naive_train_subset = df_naive_train.loc[midpoint:]\n",
    "\n",
    "# find date to split, 80% of subset\n",
    "test_split_date = ((df_naive_train[\"ds\"].iloc[-1] - midpoint) * 0.8) + midpoint\n",
    "\n",
    "df_naive_train_subset = df_naive_train_subset.drop(\"ds\", axis = 1)\n",
    "df_naive_train_subset = df_naive_train_subset.reset_index()\n",
    "\n",
    "# Split by date\n",
    "train = df_naive_train_subset.loc[df_naive_train_subset['ds'] < test_split_date]\n",
    "valid = df_naive_train_subset.loc[(df_naive_train_subset['ds'] >= test_split_date)]\n",
    "\n",
    "h = valid['ds'].nunique()"
   ]
  },
  {
   "cell_type": "code",
   "execution_count": 10,
   "metadata": {},
   "outputs": [
    {
     "name": "stdout",
     "output_type": "stream",
     "text": [
      "2015-10-21 04:48:00\n"
     ]
    }
   ],
   "source": [
    "print(test_split_date)"
   ]
  },
  {
   "cell_type": "code",
   "execution_count": 9,
   "metadata": {},
   "outputs": [],
   "source": [
    "model_3 = StatsForecast(models=[SimpleExponentialSmoothingOptimized(), \n",
    "                              SeasonalExponentialSmoothingOptimized(season_length=7)\n",
    "                              ],\n",
    "                      freq='D', n_jobs=-1)\n",
    "\n",
    "p_3 = model_3.fit_predict(h = h, df = train)"
   ]
  },
  {
   "cell_type": "code",
   "execution_count": 10,
   "metadata": {},
   "outputs": [
    {
     "data": {
      "text/html": [
       "<div>\n",
       "<style scoped>\n",
       "    .dataframe tbody tr th:only-of-type {\n",
       "        vertical-align: middle;\n",
       "    }\n",
       "\n",
       "    .dataframe tbody tr th {\n",
       "        vertical-align: top;\n",
       "    }\n",
       "\n",
       "    .dataframe thead th {\n",
       "        text-align: right;\n",
       "    }\n",
       "</style>\n",
       "<table border=\"1\" class=\"dataframe\">\n",
       "  <thead>\n",
       "    <tr style=\"text-align: right;\">\n",
       "      <th></th>\n",
       "      <th>unique_id</th>\n",
       "      <th>ds</th>\n",
       "      <th>SESOpt</th>\n",
       "      <th>SeasESOpt</th>\n",
       "      <th>y</th>\n",
       "    </tr>\n",
       "  </thead>\n",
       "  <tbody>\n",
       "    <tr>\n",
       "      <th>0</th>\n",
       "      <td>Beauty_1_001_Central_1</td>\n",
       "      <td>2015-10-22</td>\n",
       "      <td>0.239553</td>\n",
       "      <td>0.283106</td>\n",
       "      <td>0</td>\n",
       "    </tr>\n",
       "    <tr>\n",
       "      <th>1</th>\n",
       "      <td>Beauty_1_001_Central_1</td>\n",
       "      <td>2015-10-23</td>\n",
       "      <td>0.239553</td>\n",
       "      <td>0.352633</td>\n",
       "      <td>0</td>\n",
       "    </tr>\n",
       "    <tr>\n",
       "      <th>2</th>\n",
       "      <td>Beauty_1_001_Central_1</td>\n",
       "      <td>2015-10-24</td>\n",
       "      <td>0.239553</td>\n",
       "      <td>0.118980</td>\n",
       "      <td>0</td>\n",
       "    </tr>\n",
       "    <tr>\n",
       "      <th>3</th>\n",
       "      <td>Beauty_1_001_Central_1</td>\n",
       "      <td>2015-10-25</td>\n",
       "      <td>0.239553</td>\n",
       "      <td>0.191915</td>\n",
       "      <td>0</td>\n",
       "    </tr>\n",
       "    <tr>\n",
       "      <th>4</th>\n",
       "      <td>Beauty_1_001_Central_1</td>\n",
       "      <td>2015-10-26</td>\n",
       "      <td>0.239553</td>\n",
       "      <td>0.224423</td>\n",
       "      <td>0</td>\n",
       "    </tr>\n",
       "  </tbody>\n",
       "</table>\n",
       "</div>"
      ],
      "text/plain": [
       "                unique_id         ds    SESOpt  SeasESOpt  y\n",
       "0  Beauty_1_001_Central_1 2015-10-22  0.239553   0.283106  0\n",
       "1  Beauty_1_001_Central_1 2015-10-23  0.239553   0.352633  0\n",
       "2  Beauty_1_001_Central_1 2015-10-24  0.239553   0.118980  0\n",
       "3  Beauty_1_001_Central_1 2015-10-25  0.239553   0.191915  0\n",
       "4  Beauty_1_001_Central_1 2015-10-26  0.239553   0.224423  0"
      ]
     },
     "execution_count": 10,
     "metadata": {},
     "output_type": "execute_result"
    }
   ],
   "source": [
    "p_3 = p_3.reset_index().merge(valid, on=['ds', 'unique_id'], how='left')\n",
    "p_3.head()"
   ]
  },
  {
   "cell_type": "code",
   "execution_count": 12,
   "metadata": {},
   "outputs": [
    {
     "name": "stdout",
     "output_type": "stream",
     "text": [
      "4.529695390799881\n",
      "4.719031412831159\n"
     ]
    }
   ],
   "source": [
    "print(np.sqrt(mean_squared_error(valid[\"y\"], p_3[\"SESOpt\"])))\n",
    "print(np.sqrt(mean_squared_error(valid[\"y\"], p_3[\"SeasESOpt\"])))"
   ]
  },
  {
   "attachments": {},
   "cell_type": "markdown",
   "metadata": {},
   "source": [
    "### Forecasting for the next 21 days using 50% of the train data"
   ]
  },
  {
   "cell_type": "code",
   "execution_count": 16,
   "metadata": {},
   "outputs": [],
   "source": [
    "p_3_forecast = model_3.forecast(h = 21, df = df_naive_train_subset)"
   ]
  },
  {
   "cell_type": "code",
   "execution_count": 17,
   "metadata": {},
   "outputs": [
    {
     "data": {
      "text/html": [
       "<div>\n",
       "<style scoped>\n",
       "    .dataframe tbody tr th:only-of-type {\n",
       "        vertical-align: middle;\n",
       "    }\n",
       "\n",
       "    .dataframe tbody tr th {\n",
       "        vertical-align: top;\n",
       "    }\n",
       "\n",
       "    .dataframe thead th {\n",
       "        text-align: right;\n",
       "    }\n",
       "</style>\n",
       "<table border=\"1\" class=\"dataframe\">\n",
       "  <thead>\n",
       "    <tr style=\"text-align: right;\">\n",
       "      <th></th>\n",
       "      <th>unique_id</th>\n",
       "      <th>ds</th>\n",
       "      <th>SESOpt</th>\n",
       "      <th>SeasESOpt</th>\n",
       "    </tr>\n",
       "  </thead>\n",
       "  <tbody>\n",
       "    <tr>\n",
       "      <th>0</th>\n",
       "      <td>Beauty_1_001_Central_1</td>\n",
       "      <td>2016-05-01</td>\n",
       "      <td>0.322579</td>\n",
       "      <td>0.211212</td>\n",
       "    </tr>\n",
       "    <tr>\n",
       "      <th>1</th>\n",
       "      <td>Beauty_1_001_Central_1</td>\n",
       "      <td>2016-05-02</td>\n",
       "      <td>0.322579</td>\n",
       "      <td>0.445361</td>\n",
       "    </tr>\n",
       "    <tr>\n",
       "      <th>2</th>\n",
       "      <td>Beauty_1_001_Central_1</td>\n",
       "      <td>2016-05-03</td>\n",
       "      <td>0.322579</td>\n",
       "      <td>0.136753</td>\n",
       "    </tr>\n",
       "    <tr>\n",
       "      <th>3</th>\n",
       "      <td>Beauty_1_001_Central_1</td>\n",
       "      <td>2016-05-04</td>\n",
       "      <td>0.322579</td>\n",
       "      <td>0.205991</td>\n",
       "    </tr>\n",
       "    <tr>\n",
       "      <th>4</th>\n",
       "      <td>Beauty_1_001_Central_1</td>\n",
       "      <td>2016-05-05</td>\n",
       "      <td>0.322579</td>\n",
       "      <td>0.279417</td>\n",
       "    </tr>\n",
       "  </tbody>\n",
       "</table>\n",
       "</div>"
      ],
      "text/plain": [
       "                unique_id         ds    SESOpt  SeasESOpt\n",
       "0  Beauty_1_001_Central_1 2016-05-01  0.322579   0.211212\n",
       "1  Beauty_1_001_Central_1 2016-05-02  0.322579   0.445361\n",
       "2  Beauty_1_001_Central_1 2016-05-03  0.322579   0.136753\n",
       "3  Beauty_1_001_Central_1 2016-05-04  0.322579   0.205991\n",
       "4  Beauty_1_001_Central_1 2016-05-05  0.322579   0.279417"
      ]
     },
     "execution_count": 17,
     "metadata": {},
     "output_type": "execute_result"
    }
   ],
   "source": [
    "p_3_forecast = p_3_forecast.reset_index()\n",
    "p_3_forecast.head()"
   ]
  },
  {
   "cell_type": "code",
   "execution_count": 18,
   "metadata": {},
   "outputs": [],
   "source": [
    "df_SEASOpt = convert_to_sub_csv(p_3_forecast, \"SESOpt\")"
   ]
  },
  {
   "cell_type": "code",
   "execution_count": 21,
   "metadata": {},
   "outputs": [],
   "source": [
    "df_SeasESOpt = convert_to_sub_csv(p_3_forecast, \"SeasESOpt\")"
   ]
  },
  {
   "cell_type": "code",
   "execution_count": 20,
   "metadata": {},
   "outputs": [],
   "source": [
    "# df_SEASOpt.to_csv(EXPORT_PATH+\"/submission_11.csv\", header=True, index=False)"
   ]
  },
  {
   "cell_type": "code",
   "execution_count": 22,
   "metadata": {},
   "outputs": [],
   "source": [
    "# df_SeasESOpt.to_csv(EXPORT_PATH+\"/submission_12.csv\", header=True, index=False)"
   ]
  },
  {
   "attachments": {},
   "cell_type": "markdown",
   "metadata": {},
   "source": [
    "### Trying different ETS models"
   ]
  },
  {
   "cell_type": "code",
   "execution_count": 26,
   "metadata": {},
   "outputs": [],
   "source": [
    "model_3 = StatsForecast(models=[SeasonalExponentialSmoothingOptimized(season_length=14)],\n",
    "                      freq='D', n_jobs=-1)\n",
    "\n",
    "p_3 = model_3.fit_predict(h = h, df = train)"
   ]
  },
  {
   "cell_type": "code",
   "execution_count": 27,
   "metadata": {},
   "outputs": [
    {
     "data": {
      "text/html": [
       "<div>\n",
       "<style scoped>\n",
       "    .dataframe tbody tr th:only-of-type {\n",
       "        vertical-align: middle;\n",
       "    }\n",
       "\n",
       "    .dataframe tbody tr th {\n",
       "        vertical-align: top;\n",
       "    }\n",
       "\n",
       "    .dataframe thead th {\n",
       "        text-align: right;\n",
       "    }\n",
       "</style>\n",
       "<table border=\"1\" class=\"dataframe\">\n",
       "  <thead>\n",
       "    <tr style=\"text-align: right;\">\n",
       "      <th></th>\n",
       "      <th>unique_id</th>\n",
       "      <th>ds</th>\n",
       "      <th>SeasESOpt</th>\n",
       "      <th>y</th>\n",
       "    </tr>\n",
       "  </thead>\n",
       "  <tbody>\n",
       "    <tr>\n",
       "      <th>0</th>\n",
       "      <td>Beauty_1_001_Central_1</td>\n",
       "      <td>2015-10-22</td>\n",
       "      <td>0.174693</td>\n",
       "      <td>0</td>\n",
       "    </tr>\n",
       "    <tr>\n",
       "      <th>1</th>\n",
       "      <td>Beauty_1_001_Central_1</td>\n",
       "      <td>2015-10-23</td>\n",
       "      <td>0.470831</td>\n",
       "      <td>0</td>\n",
       "    </tr>\n",
       "    <tr>\n",
       "      <th>2</th>\n",
       "      <td>Beauty_1_001_Central_1</td>\n",
       "      <td>2015-10-24</td>\n",
       "      <td>0.054672</td>\n",
       "      <td>0</td>\n",
       "    </tr>\n",
       "    <tr>\n",
       "      <th>3</th>\n",
       "      <td>Beauty_1_001_Central_1</td>\n",
       "      <td>2015-10-25</td>\n",
       "      <td>0.219027</td>\n",
       "      <td>0</td>\n",
       "    </tr>\n",
       "    <tr>\n",
       "      <th>4</th>\n",
       "      <td>Beauty_1_001_Central_1</td>\n",
       "      <td>2015-10-26</td>\n",
       "      <td>0.259517</td>\n",
       "      <td>0</td>\n",
       "    </tr>\n",
       "  </tbody>\n",
       "</table>\n",
       "</div>"
      ],
      "text/plain": [
       "                unique_id         ds  SeasESOpt  y\n",
       "0  Beauty_1_001_Central_1 2015-10-22   0.174693  0\n",
       "1  Beauty_1_001_Central_1 2015-10-23   0.470831  0\n",
       "2  Beauty_1_001_Central_1 2015-10-24   0.054672  0\n",
       "3  Beauty_1_001_Central_1 2015-10-25   0.219027  0\n",
       "4  Beauty_1_001_Central_1 2015-10-26   0.259517  0"
      ]
     },
     "execution_count": 27,
     "metadata": {},
     "output_type": "execute_result"
    }
   ],
   "source": [
    "p_3 = p_3.reset_index().merge(valid, on=['ds', 'unique_id'], how='left')\n",
    "p_3.head()"
   ]
  },
  {
   "cell_type": "code",
   "execution_count": 28,
   "metadata": {},
   "outputs": [
    {
     "name": "stdout",
     "output_type": "stream",
     "text": [
      "4.694386802773638\n"
     ]
    }
   ],
   "source": [
    "print(np.sqrt(mean_squared_error(valid[\"y\"], p_3[\"SeasESOpt\"])))"
   ]
  },
  {
   "cell_type": "code",
   "execution_count": 11,
   "metadata": {},
   "outputs": [],
   "source": [
    "model_4 = StatsForecast(models=[HoltWinters(season_length=7)],\n",
    "                      freq='D', n_jobs=-1)\n",
    "\n",
    "p_4 = model_4.forecast(h = 21, df = valid)"
   ]
  },
  {
   "cell_type": "code",
   "execution_count": 12,
   "metadata": {},
   "outputs": [
    {
     "data": {
      "text/html": [
       "<div>\n",
       "<style scoped>\n",
       "    .dataframe tbody tr th:only-of-type {\n",
       "        vertical-align: middle;\n",
       "    }\n",
       "\n",
       "    .dataframe tbody tr th {\n",
       "        vertical-align: top;\n",
       "    }\n",
       "\n",
       "    .dataframe thead th {\n",
       "        text-align: right;\n",
       "    }\n",
       "</style>\n",
       "<table border=\"1\" class=\"dataframe\">\n",
       "  <thead>\n",
       "    <tr style=\"text-align: right;\">\n",
       "      <th></th>\n",
       "      <th>unique_id</th>\n",
       "      <th>ds</th>\n",
       "      <th>HoltWinters</th>\n",
       "    </tr>\n",
       "  </thead>\n",
       "  <tbody>\n",
       "    <tr>\n",
       "      <th>0</th>\n",
       "      <td>Beauty_1_001_Central_1</td>\n",
       "      <td>2016-05-01</td>\n",
       "      <td>0.531215</td>\n",
       "    </tr>\n",
       "    <tr>\n",
       "      <th>1</th>\n",
       "      <td>Beauty_1_001_Central_1</td>\n",
       "      <td>2016-05-02</td>\n",
       "      <td>0.202442</td>\n",
       "    </tr>\n",
       "    <tr>\n",
       "      <th>2</th>\n",
       "      <td>Beauty_1_001_Central_1</td>\n",
       "      <td>2016-05-03</td>\n",
       "      <td>0.274709</td>\n",
       "    </tr>\n",
       "    <tr>\n",
       "      <th>3</th>\n",
       "      <td>Beauty_1_001_Central_1</td>\n",
       "      <td>2016-05-04</td>\n",
       "      <td>0.377578</td>\n",
       "    </tr>\n",
       "    <tr>\n",
       "      <th>4</th>\n",
       "      <td>Beauty_1_001_Central_1</td>\n",
       "      <td>2016-05-05</td>\n",
       "      <td>0.592920</td>\n",
       "    </tr>\n",
       "  </tbody>\n",
       "</table>\n",
       "</div>"
      ],
      "text/plain": [
       "                unique_id         ds  HoltWinters\n",
       "0  Beauty_1_001_Central_1 2016-05-01     0.531215\n",
       "1  Beauty_1_001_Central_1 2016-05-02     0.202442\n",
       "2  Beauty_1_001_Central_1 2016-05-03     0.274709\n",
       "3  Beauty_1_001_Central_1 2016-05-04     0.377578\n",
       "4  Beauty_1_001_Central_1 2016-05-05     0.592920"
      ]
     },
     "execution_count": 12,
     "metadata": {},
     "output_type": "execute_result"
    }
   ],
   "source": [
    "p_4 = p_4.reset_index()\n",
    "p_4.head()"
   ]
  },
  {
   "cell_type": "code",
   "execution_count": 13,
   "metadata": {},
   "outputs": [],
   "source": [
    "df_holt_winters = convert_to_sub_csv(p_4, \"HoltWinters\")\n",
    "# df_holt_winters.to_csv(\"../submissions/submission_23.csv\", index = False)"
   ]
  },
  {
   "attachments": {},
   "cell_type": "markdown",
   "metadata": {},
   "source": [
    "Even with seasonal length of 14, still does not outperform window average"
   ]
  },
  {
   "attachments": {},
   "cell_type": "markdown",
   "metadata": {},
   "source": [
    "### Testing models with differencing by 7 (for window averages)\n",
    "\n",
    "Window and seasonality = 14"
   ]
  },
  {
   "cell_type": "code",
   "execution_count": 12,
   "metadata": {},
   "outputs": [],
   "source": [
    "dates_dict = dict(zip(list(df_dates[\"d\"]), list(df_dates[\"date\"])))\n",
    "df_train_dates = df_train.rename(dates_dict, axis = 1)\n",
    "\n",
    "# Difference by 7 and then save\n",
    "df_train_dates_diff = df_train_dates.iloc[:, 6:].diff(periods = 7, axis = 1).iloc[:, 7:]\n",
    "df_train_dates_diff[\"id\"] = df_train_dates[\"id\"]"
   ]
  },
  {
   "cell_type": "code",
   "execution_count": 13,
   "metadata": {},
   "outputs": [
    {
     "data": {
      "text/html": [
       "<div>\n",
       "<style scoped>\n",
       "    .dataframe tbody tr th:only-of-type {\n",
       "        vertical-align: middle;\n",
       "    }\n",
       "\n",
       "    .dataframe tbody tr th {\n",
       "        vertical-align: top;\n",
       "    }\n",
       "\n",
       "    .dataframe thead th {\n",
       "        text-align: right;\n",
       "    }\n",
       "</style>\n",
       "<table border=\"1\" class=\"dataframe\">\n",
       "  <thead>\n",
       "    <tr style=\"text-align: right;\">\n",
       "      <th></th>\n",
       "      <th>unique_id</th>\n",
       "      <th>ds</th>\n",
       "      <th>y</th>\n",
       "    </tr>\n",
       "  </thead>\n",
       "  <tbody>\n",
       "    <tr>\n",
       "      <th>0</th>\n",
       "      <td>Beauty_1_001_East_1</td>\n",
       "      <td>2011-02-05</td>\n",
       "      <td>0</td>\n",
       "    </tr>\n",
       "    <tr>\n",
       "      <th>1</th>\n",
       "      <td>Beauty_1_002_East_1</td>\n",
       "      <td>2011-02-05</td>\n",
       "      <td>0</td>\n",
       "    </tr>\n",
       "    <tr>\n",
       "      <th>2</th>\n",
       "      <td>Beauty_1_003_East_1</td>\n",
       "      <td>2011-02-05</td>\n",
       "      <td>0</td>\n",
       "    </tr>\n",
       "    <tr>\n",
       "      <th>3</th>\n",
       "      <td>Beauty_1_004_East_1</td>\n",
       "      <td>2011-02-05</td>\n",
       "      <td>0</td>\n",
       "    </tr>\n",
       "    <tr>\n",
       "      <th>4</th>\n",
       "      <td>Beauty_1_005_East_1</td>\n",
       "      <td>2011-02-05</td>\n",
       "      <td>0</td>\n",
       "    </tr>\n",
       "  </tbody>\n",
       "</table>\n",
       "</div>"
      ],
      "text/plain": [
       "             unique_id         ds  y\n",
       "0  Beauty_1_001_East_1 2011-02-05  0\n",
       "1  Beauty_1_002_East_1 2011-02-05  0\n",
       "2  Beauty_1_003_East_1 2011-02-05  0\n",
       "3  Beauty_1_004_East_1 2011-02-05  0\n",
       "4  Beauty_1_005_East_1 2011-02-05  0"
      ]
     },
     "execution_count": 13,
     "metadata": {},
     "output_type": "execute_result"
    }
   ],
   "source": [
    "df_naive_train_diff = df_train_dates_diff[[\"id\"] + list(df_train_dates_diff.columns[:-1])].melt(id_vars = [\"id\"], var_name= \"ds\", value_name = \"y\")\n",
    "df_naive_train_diff = df_naive_train_diff.rename(columns = {\"id\":\"unique_id\"})\n",
    "df_naive_train_diff.head()"
   ]
  },
  {
   "cell_type": "code",
   "execution_count": 15,
   "metadata": {},
   "outputs": [],
   "source": [
    "# Split into train and validation \n",
    "train = df_naive_train_diff.loc[df_naive_train_diff['ds'] < '2015-01-29']\n",
    "valid = df_naive_train_diff.loc[(df_naive_train_diff['ds'] >= '2015-01-29')]\n",
    "h = valid['ds'].nunique()"
   ]
  },
  {
   "cell_type": "code",
   "execution_count": 37,
   "metadata": {},
   "outputs": [],
   "source": [
    "model_4 = StatsForecast(models=[Naive(),\n",
    "                                SeasonalNaive(season_length=7), \n",
    "                              WindowAverage(window_size=7), \n",
    "                              SeasonalWindowAverage(window_size=2, season_length=7)],\n",
    "                      freq='D', n_jobs=-1)"
   ]
  },
  {
   "cell_type": "code",
   "execution_count": 38,
   "metadata": {},
   "outputs": [
    {
     "ename": "KeyboardInterrupt",
     "evalue": "",
     "output_type": "error",
     "traceback": [
      "\u001b[1;31m---------------------------------------------------------------------------\u001b[0m",
      "\u001b[1;31mKeyboardInterrupt\u001b[0m                         Traceback (most recent call last)",
      "\u001b[1;32m~\\AppData\\Local\\Temp\\ipykernel_13324\\2141450643.py\u001b[0m in \u001b[0;36m<module>\u001b[1;34m\u001b[0m\n\u001b[1;32m----> 1\u001b[1;33m \u001b[0mp_4\u001b[0m \u001b[1;33m=\u001b[0m \u001b[0mmodel_4\u001b[0m\u001b[1;33m.\u001b[0m\u001b[0mfit_predict\u001b[0m\u001b[1;33m(\u001b[0m\u001b[0mh\u001b[0m \u001b[1;33m=\u001b[0m \u001b[0mh\u001b[0m\u001b[1;33m,\u001b[0m \u001b[0mdf\u001b[0m \u001b[1;33m=\u001b[0m \u001b[0mtrain\u001b[0m\u001b[1;33m)\u001b[0m\u001b[1;33m\u001b[0m\u001b[1;33m\u001b[0m\u001b[0m\n\u001b[0m\u001b[0;32m      2\u001b[0m \u001b[0mp_4\u001b[0m \u001b[1;33m=\u001b[0m \u001b[0mp_4\u001b[0m\u001b[1;33m.\u001b[0m\u001b[0mreset_index\u001b[0m\u001b[1;33m(\u001b[0m\u001b[1;33m)\u001b[0m\u001b[1;33m.\u001b[0m\u001b[0mmerge\u001b[0m\u001b[1;33m(\u001b[0m\u001b[0mvalid\u001b[0m\u001b[1;33m,\u001b[0m \u001b[0mon\u001b[0m\u001b[1;33m=\u001b[0m\u001b[1;33m[\u001b[0m\u001b[1;34m'ds'\u001b[0m\u001b[1;33m,\u001b[0m \u001b[1;34m'unique_id'\u001b[0m\u001b[1;33m]\u001b[0m\u001b[1;33m,\u001b[0m \u001b[0mhow\u001b[0m\u001b[1;33m=\u001b[0m\u001b[1;34m'left'\u001b[0m\u001b[1;33m)\u001b[0m\u001b[1;33m\u001b[0m\u001b[1;33m\u001b[0m\u001b[0m\n\u001b[0;32m      3\u001b[0m \u001b[0mp_4\u001b[0m\u001b[1;33m.\u001b[0m\u001b[0mhead\u001b[0m\u001b[1;33m(\u001b[0m\u001b[1;33m)\u001b[0m\u001b[1;33m\u001b[0m\u001b[1;33m\u001b[0m\u001b[0m\n",
      "\u001b[1;32mc:\\Users\\Tristan\\Desktop\\Assignments\\ADS\\ads-final-project\\ads_env\\lib\\site-packages\\statsforecast\\core.py\u001b[0m in \u001b[0;36mfit_predict\u001b[1;34m(self, h, df, X_df, level, sort_df)\u001b[0m\n\u001b[0;32m    684\u001b[0m             \u001b[0mpredictions\u001b[0m \u001b[1;32mfor\u001b[0m \u001b[0mall\u001b[0m \u001b[0mfitted\u001b[0m\u001b[0;31m \u001b[0m\u001b[0;31m`\u001b[0m\u001b[0mmodels\u001b[0m\u001b[0;31m`\u001b[0m\u001b[1;33m.\u001b[0m\u001b[1;33m\u001b[0m\u001b[1;33m\u001b[0m\u001b[0m\n\u001b[0;32m    685\u001b[0m         \"\"\"\n\u001b[1;32m--> 686\u001b[1;33m         \u001b[0mself\u001b[0m\u001b[1;33m.\u001b[0m\u001b[0m_prepare_fit\u001b[0m\u001b[1;33m(\u001b[0m\u001b[0mdf\u001b[0m\u001b[1;33m,\u001b[0m \u001b[0msort_df\u001b[0m\u001b[1;33m)\u001b[0m\u001b[1;33m\u001b[0m\u001b[1;33m\u001b[0m\u001b[0m\n\u001b[0m\u001b[0;32m    687\u001b[0m         \u001b[0mX\u001b[0m\u001b[1;33m,\u001b[0m \u001b[0mlevel\u001b[0m \u001b[1;33m=\u001b[0m \u001b[0mself\u001b[0m\u001b[1;33m.\u001b[0m\u001b[0m_parse_X_level\u001b[0m\u001b[1;33m(\u001b[0m\u001b[0mh\u001b[0m\u001b[1;33m=\u001b[0m\u001b[0mh\u001b[0m\u001b[1;33m,\u001b[0m \u001b[0mX\u001b[0m\u001b[1;33m=\u001b[0m\u001b[0mX_df\u001b[0m\u001b[1;33m,\u001b[0m \u001b[0mlevel\u001b[0m\u001b[1;33m=\u001b[0m\u001b[0mlevel\u001b[0m\u001b[1;33m)\u001b[0m\u001b[1;33m\u001b[0m\u001b[1;33m\u001b[0m\u001b[0m\n\u001b[0;32m    688\u001b[0m         \u001b[1;32mif\u001b[0m \u001b[0mself\u001b[0m\u001b[1;33m.\u001b[0m\u001b[0mn_jobs\u001b[0m \u001b[1;33m==\u001b[0m \u001b[1;36m1\u001b[0m\u001b[1;33m:\u001b[0m\u001b[1;33m\u001b[0m\u001b[1;33m\u001b[0m\u001b[0m\n",
      "\u001b[1;32mc:\\Users\\Tristan\\Desktop\\Assignments\\ADS\\ads-final-project\\ads_env\\lib\\site-packages\\statsforecast\\core.py\u001b[0m in \u001b[0;36m_prepare_fit\u001b[1;34m(self, df, sort_df)\u001b[0m\n\u001b[0;32m    550\u001b[0m             \u001b[0mdf\u001b[0m \u001b[1;33m=\u001b[0m \u001b[0m_parse_ds_type\u001b[0m\u001b[1;33m(\u001b[0m\u001b[0mdf\u001b[0m\u001b[1;33m)\u001b[0m\u001b[1;33m\u001b[0m\u001b[1;33m\u001b[0m\u001b[0m\n\u001b[0;32m    551\u001b[0m             self.ga, self.uids, self.last_dates, self.ds = _grouped_array_from_df(\n\u001b[1;32m--> 552\u001b[1;33m                 \u001b[0mdf\u001b[0m\u001b[1;33m,\u001b[0m \u001b[0msort_df\u001b[0m\u001b[1;33m\u001b[0m\u001b[1;33m\u001b[0m\u001b[0m\n\u001b[0m\u001b[0;32m    553\u001b[0m             )\n\u001b[0;32m    554\u001b[0m             \u001b[0mself\u001b[0m\u001b[1;33m.\u001b[0m\u001b[0mn_jobs\u001b[0m \u001b[1;33m=\u001b[0m \u001b[0m_get_n_jobs\u001b[0m\u001b[1;33m(\u001b[0m\u001b[0mlen\u001b[0m\u001b[1;33m(\u001b[0m\u001b[0mself\u001b[0m\u001b[1;33m.\u001b[0m\u001b[0mga\u001b[0m\u001b[1;33m)\u001b[0m\u001b[1;33m,\u001b[0m \u001b[0mself\u001b[0m\u001b[1;33m.\u001b[0m\u001b[0mn_jobs\u001b[0m\u001b[1;33m)\u001b[0m\u001b[1;33m\u001b[0m\u001b[1;33m\u001b[0m\u001b[0m\n",
      "\u001b[1;32mc:\\Users\\Tristan\\Desktop\\Assignments\\ADS\\ads-final-project\\ads_env\\lib\\site-packages\\statsforecast\\core.py\u001b[0m in \u001b[0;36m_grouped_array_from_df\u001b[1;34m(df, sort_df)\u001b[0m\n\u001b[0;32m    406\u001b[0m \u001b[1;31m# %% ../nbs/core.ipynb 22\u001b[0m\u001b[1;33m\u001b[0m\u001b[1;33m\u001b[0m\u001b[1;33m\u001b[0m\u001b[0m\n\u001b[0;32m    407\u001b[0m \u001b[1;32mdef\u001b[0m \u001b[0m_grouped_array_from_df\u001b[0m\u001b[1;33m(\u001b[0m\u001b[0mdf\u001b[0m\u001b[1;33m,\u001b[0m \u001b[0msort_df\u001b[0m\u001b[1;33m)\u001b[0m\u001b[1;33m:\u001b[0m\u001b[1;33m\u001b[0m\u001b[1;33m\u001b[0m\u001b[0m\n\u001b[1;32m--> 408\u001b[1;33m     \u001b[0mdf\u001b[0m \u001b[1;33m=\u001b[0m \u001b[0mdf\u001b[0m\u001b[1;33m.\u001b[0m\u001b[0mset_index\u001b[0m\u001b[1;33m(\u001b[0m\u001b[1;34m\"ds\"\u001b[0m\u001b[1;33m,\u001b[0m \u001b[0mappend\u001b[0m\u001b[1;33m=\u001b[0m\u001b[1;32mTrue\u001b[0m\u001b[1;33m)\u001b[0m\u001b[1;33m\u001b[0m\u001b[1;33m\u001b[0m\u001b[0m\n\u001b[0m\u001b[0;32m    409\u001b[0m     \u001b[1;32mif\u001b[0m \u001b[1;32mnot\u001b[0m \u001b[0mdf\u001b[0m\u001b[1;33m.\u001b[0m\u001b[0mindex\u001b[0m\u001b[1;33m.\u001b[0m\u001b[0mis_monotonic_increasing\u001b[0m \u001b[1;32mand\u001b[0m \u001b[0msort_df\u001b[0m\u001b[1;33m:\u001b[0m\u001b[1;33m\u001b[0m\u001b[1;33m\u001b[0m\u001b[0m\n\u001b[0;32m    410\u001b[0m         \u001b[0mdf\u001b[0m \u001b[1;33m=\u001b[0m \u001b[0mdf\u001b[0m\u001b[1;33m.\u001b[0m\u001b[0msort_index\u001b[0m\u001b[1;33m(\u001b[0m\u001b[1;33m)\u001b[0m\u001b[1;33m\u001b[0m\u001b[1;33m\u001b[0m\u001b[0m\n",
      "\u001b[1;32mc:\\Users\\Tristan\\Desktop\\Assignments\\ADS\\ads-final-project\\ads_env\\lib\\site-packages\\pandas\\util\\_decorators.py\u001b[0m in \u001b[0;36mwrapper\u001b[1;34m(*args, **kwargs)\u001b[0m\n\u001b[0;32m    309\u001b[0m                     \u001b[0mstacklevel\u001b[0m\u001b[1;33m=\u001b[0m\u001b[0mstacklevel\u001b[0m\u001b[1;33m,\u001b[0m\u001b[1;33m\u001b[0m\u001b[1;33m\u001b[0m\u001b[0m\n\u001b[0;32m    310\u001b[0m                 )\n\u001b[1;32m--> 311\u001b[1;33m             \u001b[1;32mreturn\u001b[0m \u001b[0mfunc\u001b[0m\u001b[1;33m(\u001b[0m\u001b[1;33m*\u001b[0m\u001b[0margs\u001b[0m\u001b[1;33m,\u001b[0m \u001b[1;33m**\u001b[0m\u001b[0mkwargs\u001b[0m\u001b[1;33m)\u001b[0m\u001b[1;33m\u001b[0m\u001b[1;33m\u001b[0m\u001b[0m\n\u001b[0m\u001b[0;32m    312\u001b[0m \u001b[1;33m\u001b[0m\u001b[0m\n\u001b[0;32m    313\u001b[0m         \u001b[1;32mreturn\u001b[0m \u001b[0mwrapper\u001b[0m\u001b[1;33m\u001b[0m\u001b[1;33m\u001b[0m\u001b[0m\n",
      "\u001b[1;32mc:\\Users\\Tristan\\Desktop\\Assignments\\ADS\\ads-final-project\\ads_env\\lib\\site-packages\\pandas\\core\\frame.py\u001b[0m in \u001b[0;36mset_index\u001b[1;34m(self, keys, drop, append, inplace, verify_integrity)\u001b[0m\n\u001b[0;32m   5504\u001b[0m                 )\n\u001b[0;32m   5505\u001b[0m \u001b[1;33m\u001b[0m\u001b[0m\n\u001b[1;32m-> 5506\u001b[1;33m         \u001b[0mindex\u001b[0m \u001b[1;33m=\u001b[0m \u001b[0mensure_index_from_sequences\u001b[0m\u001b[1;33m(\u001b[0m\u001b[0marrays\u001b[0m\u001b[1;33m,\u001b[0m \u001b[0mnames\u001b[0m\u001b[1;33m)\u001b[0m\u001b[1;33m\u001b[0m\u001b[1;33m\u001b[0m\u001b[0m\n\u001b[0m\u001b[0;32m   5507\u001b[0m \u001b[1;33m\u001b[0m\u001b[0m\n\u001b[0;32m   5508\u001b[0m         \u001b[1;32mif\u001b[0m \u001b[0mverify_integrity\u001b[0m \u001b[1;32mand\u001b[0m \u001b[1;32mnot\u001b[0m \u001b[0mindex\u001b[0m\u001b[1;33m.\u001b[0m\u001b[0mis_unique\u001b[0m\u001b[1;33m:\u001b[0m\u001b[1;33m\u001b[0m\u001b[1;33m\u001b[0m\u001b[0m\n",
      "\u001b[1;32mc:\\Users\\Tristan\\Desktop\\Assignments\\ADS\\ads-final-project\\ads_env\\lib\\site-packages\\pandas\\core\\indexes\\base.py\u001b[0m in \u001b[0;36mensure_index_from_sequences\u001b[1;34m(sequences, names)\u001b[0m\n\u001b[0;32m   6274\u001b[0m         \u001b[1;32mreturn\u001b[0m \u001b[0mIndex\u001b[0m\u001b[1;33m(\u001b[0m\u001b[0msequences\u001b[0m\u001b[1;33m[\u001b[0m\u001b[1;36m0\u001b[0m\u001b[1;33m]\u001b[0m\u001b[1;33m,\u001b[0m \u001b[0mname\u001b[0m\u001b[1;33m=\u001b[0m\u001b[0mnames\u001b[0m\u001b[1;33m)\u001b[0m\u001b[1;33m\u001b[0m\u001b[1;33m\u001b[0m\u001b[0m\n\u001b[0;32m   6275\u001b[0m     \u001b[1;32melse\u001b[0m\u001b[1;33m:\u001b[0m\u001b[1;33m\u001b[0m\u001b[1;33m\u001b[0m\u001b[0m\n\u001b[1;32m-> 6276\u001b[1;33m         \u001b[1;32mreturn\u001b[0m \u001b[0mMultiIndex\u001b[0m\u001b[1;33m.\u001b[0m\u001b[0mfrom_arrays\u001b[0m\u001b[1;33m(\u001b[0m\u001b[0msequences\u001b[0m\u001b[1;33m,\u001b[0m \u001b[0mnames\u001b[0m\u001b[1;33m=\u001b[0m\u001b[0mnames\u001b[0m\u001b[1;33m)\u001b[0m\u001b[1;33m\u001b[0m\u001b[1;33m\u001b[0m\u001b[0m\n\u001b[0m\u001b[0;32m   6277\u001b[0m \u001b[1;33m\u001b[0m\u001b[0m\n\u001b[0;32m   6278\u001b[0m \u001b[1;33m\u001b[0m\u001b[0m\n",
      "\u001b[1;32mc:\\Users\\Tristan\\Desktop\\Assignments\\ADS\\ads-final-project\\ads_env\\lib\\site-packages\\pandas\\core\\indexes\\multi.py\u001b[0m in \u001b[0;36mfrom_arrays\u001b[1;34m(cls, arrays, sortorder, names)\u001b[0m\n\u001b[0;32m    481\u001b[0m                 \u001b[1;32mraise\u001b[0m \u001b[0mValueError\u001b[0m\u001b[1;33m(\u001b[0m\u001b[1;34m\"all arrays must be same length\"\u001b[0m\u001b[1;33m)\u001b[0m\u001b[1;33m\u001b[0m\u001b[1;33m\u001b[0m\u001b[0m\n\u001b[0;32m    482\u001b[0m \u001b[1;33m\u001b[0m\u001b[0m\n\u001b[1;32m--> 483\u001b[1;33m         \u001b[0mcodes\u001b[0m\u001b[1;33m,\u001b[0m \u001b[0mlevels\u001b[0m \u001b[1;33m=\u001b[0m \u001b[0mfactorize_from_iterables\u001b[0m\u001b[1;33m(\u001b[0m\u001b[0marrays\u001b[0m\u001b[1;33m)\u001b[0m\u001b[1;33m\u001b[0m\u001b[1;33m\u001b[0m\u001b[0m\n\u001b[0m\u001b[0;32m    484\u001b[0m         \u001b[1;32mif\u001b[0m \u001b[0mnames\u001b[0m \u001b[1;32mis\u001b[0m \u001b[0mlib\u001b[0m\u001b[1;33m.\u001b[0m\u001b[0mno_default\u001b[0m\u001b[1;33m:\u001b[0m\u001b[1;33m\u001b[0m\u001b[1;33m\u001b[0m\u001b[0m\n\u001b[0;32m    485\u001b[0m             \u001b[0mnames\u001b[0m \u001b[1;33m=\u001b[0m \u001b[1;33m[\u001b[0m\u001b[0mgetattr\u001b[0m\u001b[1;33m(\u001b[0m\u001b[0marr\u001b[0m\u001b[1;33m,\u001b[0m \u001b[1;34m\"name\"\u001b[0m\u001b[1;33m,\u001b[0m \u001b[1;32mNone\u001b[0m\u001b[1;33m)\u001b[0m \u001b[1;32mfor\u001b[0m \u001b[0marr\u001b[0m \u001b[1;32min\u001b[0m \u001b[0marrays\u001b[0m\u001b[1;33m]\u001b[0m\u001b[1;33m\u001b[0m\u001b[1;33m\u001b[0m\u001b[0m\n",
      "\u001b[1;32mc:\\Users\\Tristan\\Desktop\\Assignments\\ADS\\ads-final-project\\ads_env\\lib\\site-packages\\pandas\\core\\arrays\\categorical.py\u001b[0m in \u001b[0;36mfactorize_from_iterables\u001b[1;34m(iterables)\u001b[0m\n\u001b[0;32m   2780\u001b[0m         \u001b[1;32mreturn\u001b[0m \u001b[1;33m[\u001b[0m\u001b[1;33m]\u001b[0m\u001b[1;33m,\u001b[0m \u001b[1;33m[\u001b[0m\u001b[1;33m]\u001b[0m\u001b[1;33m\u001b[0m\u001b[1;33m\u001b[0m\u001b[0m\n\u001b[0;32m   2781\u001b[0m \u001b[1;33m\u001b[0m\u001b[0m\n\u001b[1;32m-> 2782\u001b[1;33m     \u001b[0mcodes\u001b[0m\u001b[1;33m,\u001b[0m \u001b[0mcategories\u001b[0m \u001b[1;33m=\u001b[0m \u001b[0mzip\u001b[0m\u001b[1;33m(\u001b[0m\u001b[1;33m*\u001b[0m\u001b[1;33m(\u001b[0m\u001b[0mfactorize_from_iterable\u001b[0m\u001b[1;33m(\u001b[0m\u001b[0mit\u001b[0m\u001b[1;33m)\u001b[0m \u001b[1;32mfor\u001b[0m \u001b[0mit\u001b[0m \u001b[1;32min\u001b[0m \u001b[0miterables\u001b[0m\u001b[1;33m)\u001b[0m\u001b[1;33m)\u001b[0m\u001b[1;33m\u001b[0m\u001b[1;33m\u001b[0m\u001b[0m\n\u001b[0m\u001b[0;32m   2783\u001b[0m     \u001b[1;32mreturn\u001b[0m \u001b[0mlist\u001b[0m\u001b[1;33m(\u001b[0m\u001b[0mcodes\u001b[0m\u001b[1;33m)\u001b[0m\u001b[1;33m,\u001b[0m \u001b[0mlist\u001b[0m\u001b[1;33m(\u001b[0m\u001b[0mcategories\u001b[0m\u001b[1;33m)\u001b[0m\u001b[1;33m\u001b[0m\u001b[1;33m\u001b[0m\u001b[0m\n",
      "\u001b[1;32mc:\\Users\\Tristan\\Desktop\\Assignments\\ADS\\ads-final-project\\ads_env\\lib\\site-packages\\pandas\\core\\arrays\\categorical.py\u001b[0m in \u001b[0;36m<genexpr>\u001b[1;34m(.0)\u001b[0m\n\u001b[0;32m   2780\u001b[0m         \u001b[1;32mreturn\u001b[0m \u001b[1;33m[\u001b[0m\u001b[1;33m]\u001b[0m\u001b[1;33m,\u001b[0m \u001b[1;33m[\u001b[0m\u001b[1;33m]\u001b[0m\u001b[1;33m\u001b[0m\u001b[1;33m\u001b[0m\u001b[0m\n\u001b[0;32m   2781\u001b[0m \u001b[1;33m\u001b[0m\u001b[0m\n\u001b[1;32m-> 2782\u001b[1;33m     \u001b[0mcodes\u001b[0m\u001b[1;33m,\u001b[0m \u001b[0mcategories\u001b[0m \u001b[1;33m=\u001b[0m \u001b[0mzip\u001b[0m\u001b[1;33m(\u001b[0m\u001b[1;33m*\u001b[0m\u001b[1;33m(\u001b[0m\u001b[0mfactorize_from_iterable\u001b[0m\u001b[1;33m(\u001b[0m\u001b[0mit\u001b[0m\u001b[1;33m)\u001b[0m \u001b[1;32mfor\u001b[0m \u001b[0mit\u001b[0m \u001b[1;32min\u001b[0m \u001b[0miterables\u001b[0m\u001b[1;33m)\u001b[0m\u001b[1;33m)\u001b[0m\u001b[1;33m\u001b[0m\u001b[1;33m\u001b[0m\u001b[0m\n\u001b[0m\u001b[0;32m   2783\u001b[0m     \u001b[1;32mreturn\u001b[0m \u001b[0mlist\u001b[0m\u001b[1;33m(\u001b[0m\u001b[0mcodes\u001b[0m\u001b[1;33m)\u001b[0m\u001b[1;33m,\u001b[0m \u001b[0mlist\u001b[0m\u001b[1;33m(\u001b[0m\u001b[0mcategories\u001b[0m\u001b[1;33m)\u001b[0m\u001b[1;33m\u001b[0m\u001b[1;33m\u001b[0m\u001b[0m\n",
      "\u001b[1;32mc:\\Users\\Tristan\\Desktop\\Assignments\\ADS\\ads-final-project\\ads_env\\lib\\site-packages\\pandas\\core\\arrays\\categorical.py\u001b[0m in \u001b[0;36mfactorize_from_iterable\u001b[1;34m(values)\u001b[0m\n\u001b[0;32m   2753\u001b[0m         \u001b[1;31m# but only the resulting categories, the order of which is independent\u001b[0m\u001b[1;33m\u001b[0m\u001b[1;33m\u001b[0m\u001b[1;33m\u001b[0m\u001b[0m\n\u001b[0;32m   2754\u001b[0m         \u001b[1;31m# from ordered. Set ordered to False as default. See GH #15457\u001b[0m\u001b[1;33m\u001b[0m\u001b[1;33m\u001b[0m\u001b[1;33m\u001b[0m\u001b[0m\n\u001b[1;32m-> 2755\u001b[1;33m         \u001b[0mcat\u001b[0m \u001b[1;33m=\u001b[0m \u001b[0mCategorical\u001b[0m\u001b[1;33m(\u001b[0m\u001b[0mvalues\u001b[0m\u001b[1;33m,\u001b[0m \u001b[0mordered\u001b[0m\u001b[1;33m=\u001b[0m\u001b[1;32mFalse\u001b[0m\u001b[1;33m)\u001b[0m\u001b[1;33m\u001b[0m\u001b[1;33m\u001b[0m\u001b[0m\n\u001b[0m\u001b[0;32m   2756\u001b[0m         \u001b[0mcategories\u001b[0m \u001b[1;33m=\u001b[0m \u001b[0mcat\u001b[0m\u001b[1;33m.\u001b[0m\u001b[0mcategories\u001b[0m\u001b[1;33m\u001b[0m\u001b[1;33m\u001b[0m\u001b[0m\n\u001b[0;32m   2757\u001b[0m         \u001b[0mcodes\u001b[0m \u001b[1;33m=\u001b[0m \u001b[0mcat\u001b[0m\u001b[1;33m.\u001b[0m\u001b[0mcodes\u001b[0m\u001b[1;33m\u001b[0m\u001b[1;33m\u001b[0m\u001b[0m\n",
      "\u001b[1;32mc:\\Users\\Tristan\\Desktop\\Assignments\\ADS\\ads-final-project\\ads_env\\lib\\site-packages\\pandas\\core\\arrays\\categorical.py\u001b[0m in \u001b[0;36m__init__\u001b[1;34m(self, values, categories, ordered, dtype, fastpath, copy)\u001b[0m\n\u001b[0;32m    430\u001b[0m         \u001b[1;32mif\u001b[0m \u001b[0mdtype\u001b[0m\u001b[1;33m.\u001b[0m\u001b[0mcategories\u001b[0m \u001b[1;32mis\u001b[0m \u001b[1;32mNone\u001b[0m\u001b[1;33m:\u001b[0m\u001b[1;33m\u001b[0m\u001b[1;33m\u001b[0m\u001b[0m\n\u001b[0;32m    431\u001b[0m             \u001b[1;32mtry\u001b[0m\u001b[1;33m:\u001b[0m\u001b[1;33m\u001b[0m\u001b[1;33m\u001b[0m\u001b[0m\n\u001b[1;32m--> 432\u001b[1;33m                 \u001b[0mcodes\u001b[0m\u001b[1;33m,\u001b[0m \u001b[0mcategories\u001b[0m \u001b[1;33m=\u001b[0m \u001b[0mfactorize\u001b[0m\u001b[1;33m(\u001b[0m\u001b[0mvalues\u001b[0m\u001b[1;33m,\u001b[0m \u001b[0msort\u001b[0m\u001b[1;33m=\u001b[0m\u001b[1;32mTrue\u001b[0m\u001b[1;33m)\u001b[0m\u001b[1;33m\u001b[0m\u001b[1;33m\u001b[0m\u001b[0m\n\u001b[0m\u001b[0;32m    433\u001b[0m             \u001b[1;32mexcept\u001b[0m \u001b[0mTypeError\u001b[0m \u001b[1;32mas\u001b[0m \u001b[0merr\u001b[0m\u001b[1;33m:\u001b[0m\u001b[1;33m\u001b[0m\u001b[1;33m\u001b[0m\u001b[0m\n\u001b[0;32m    434\u001b[0m                 \u001b[0mcodes\u001b[0m\u001b[1;33m,\u001b[0m \u001b[0mcategories\u001b[0m \u001b[1;33m=\u001b[0m \u001b[0mfactorize\u001b[0m\u001b[1;33m(\u001b[0m\u001b[0mvalues\u001b[0m\u001b[1;33m,\u001b[0m \u001b[0msort\u001b[0m\u001b[1;33m=\u001b[0m\u001b[1;32mFalse\u001b[0m\u001b[1;33m)\u001b[0m\u001b[1;33m\u001b[0m\u001b[1;33m\u001b[0m\u001b[0m\n",
      "\u001b[1;32mc:\\Users\\Tristan\\Desktop\\Assignments\\ADS\\ads-final-project\\ads_env\\lib\\site-packages\\pandas\\core\\algorithms.py\u001b[0m in \u001b[0;36mfactorize\u001b[1;34m(values, sort, na_sentinel, size_hint)\u001b[0m\n\u001b[0;32m    760\u001b[0m \u001b[1;33m\u001b[0m\u001b[0m\n\u001b[0;32m    761\u001b[0m         codes, uniques = factorize_array(\n\u001b[1;32m--> 762\u001b[1;33m             \u001b[0mvalues\u001b[0m\u001b[1;33m,\u001b[0m \u001b[0mna_sentinel\u001b[0m\u001b[1;33m=\u001b[0m\u001b[0mna_sentinel\u001b[0m\u001b[1;33m,\u001b[0m \u001b[0msize_hint\u001b[0m\u001b[1;33m=\u001b[0m\u001b[0msize_hint\u001b[0m\u001b[1;33m,\u001b[0m \u001b[0mna_value\u001b[0m\u001b[1;33m=\u001b[0m\u001b[0mna_value\u001b[0m\u001b[1;33m\u001b[0m\u001b[1;33m\u001b[0m\u001b[0m\n\u001b[0m\u001b[0;32m    763\u001b[0m         )\n\u001b[0;32m    764\u001b[0m \u001b[1;33m\u001b[0m\u001b[0m\n",
      "\u001b[1;32mc:\\Users\\Tristan\\Desktop\\Assignments\\ADS\\ads-final-project\\ads_env\\lib\\site-packages\\pandas\\core\\algorithms.py\u001b[0m in \u001b[0;36mfactorize_array\u001b[1;34m(values, na_sentinel, size_hint, na_value, mask)\u001b[0m\n\u001b[0;32m    562\u001b[0m     \u001b[0mtable\u001b[0m \u001b[1;33m=\u001b[0m \u001b[0mhash_klass\u001b[0m\u001b[1;33m(\u001b[0m\u001b[0msize_hint\u001b[0m \u001b[1;32mor\u001b[0m \u001b[0mlen\u001b[0m\u001b[1;33m(\u001b[0m\u001b[0mvalues\u001b[0m\u001b[1;33m)\u001b[0m\u001b[1;33m)\u001b[0m\u001b[1;33m\u001b[0m\u001b[1;33m\u001b[0m\u001b[0m\n\u001b[0;32m    563\u001b[0m     uniques, codes = table.factorize(\n\u001b[1;32m--> 564\u001b[1;33m         \u001b[0mvalues\u001b[0m\u001b[1;33m,\u001b[0m \u001b[0mna_sentinel\u001b[0m\u001b[1;33m=\u001b[0m\u001b[0mna_sentinel\u001b[0m\u001b[1;33m,\u001b[0m \u001b[0mna_value\u001b[0m\u001b[1;33m=\u001b[0m\u001b[0mna_value\u001b[0m\u001b[1;33m,\u001b[0m \u001b[0mmask\u001b[0m\u001b[1;33m=\u001b[0m\u001b[0mmask\u001b[0m\u001b[1;33m\u001b[0m\u001b[1;33m\u001b[0m\u001b[0m\n\u001b[0m\u001b[0;32m    565\u001b[0m     )\n\u001b[0;32m    566\u001b[0m \u001b[1;33m\u001b[0m\u001b[0m\n",
      "\u001b[1;31mKeyboardInterrupt\u001b[0m: "
     ]
    }
   ],
   "source": [
    "p_4 = model_4.fit_predict(h = h, df = train)\n",
    "p_4 = p_4.reset_index().merge(valid, on=['ds', 'unique_id'], how='left')\n",
    "p_4.head()"
   ]
  },
  {
   "cell_type": "code",
   "execution_count": 26,
   "metadata": {},
   "outputs": [],
   "source": [
    "p_4[[\"Naive\", \"SeasonalNaive\", \"WindowAverage\", \"SeasWA\"]] = p_4[[\"Naive\", \"SeasonalNaive\", \"WindowAverage\", \"SeasWA\"]].apply(round_positive)"
   ]
  },
  {
   "cell_type": "code",
   "execution_count": 27,
   "metadata": {},
   "outputs": [
    {
     "name": "stdout",
     "output_type": "stream",
     "text": [
      "3.265376671835042\n",
      "2.8772100978970427\n",
      "2.926046344787223\n"
     ]
    }
   ],
   "source": [
    "print(np.sqrt(mean_squared_error(valid[\"y\"], p_4[\"SeasonalNaive\"])))\n",
    "print(np.sqrt(mean_squared_error(valid[\"y\"], p_4[\"WindowAverage\"])))\n",
    "print(np.sqrt(mean_squared_error(valid[\"y\"], p_4[\"SeasWA\"])))"
   ]
  },
  {
   "attachments": {},
   "cell_type": "markdown",
   "metadata": {},
   "source": [
    "### Forecast using entire train set for 21 days"
   ]
  },
  {
   "cell_type": "code",
   "execution_count": 39,
   "metadata": {},
   "outputs": [],
   "source": [
    "p_4_forecast = model_4.forecast(h = 21, df = df_naive_train_diff)"
   ]
  },
  {
   "cell_type": "code",
   "execution_count": 40,
   "metadata": {},
   "outputs": [
    {
     "data": {
      "text/html": [
       "<div>\n",
       "<style scoped>\n",
       "    .dataframe tbody tr th:only-of-type {\n",
       "        vertical-align: middle;\n",
       "    }\n",
       "\n",
       "    .dataframe tbody tr th {\n",
       "        vertical-align: top;\n",
       "    }\n",
       "\n",
       "    .dataframe thead th {\n",
       "        text-align: right;\n",
       "    }\n",
       "</style>\n",
       "<table border=\"1\" class=\"dataframe\">\n",
       "  <thead>\n",
       "    <tr style=\"text-align: right;\">\n",
       "      <th></th>\n",
       "      <th>unique_id</th>\n",
       "      <th>ds</th>\n",
       "      <th>Naive</th>\n",
       "      <th>SeasonalNaive</th>\n",
       "      <th>WindowAverage</th>\n",
       "      <th>SeasWA</th>\n",
       "    </tr>\n",
       "  </thead>\n",
       "  <tbody>\n",
       "    <tr>\n",
       "      <th>0</th>\n",
       "      <td>Beauty_1_001_Central_1</td>\n",
       "      <td>2016-05-01</td>\n",
       "      <td>0.0</td>\n",
       "      <td>2.0</td>\n",
       "      <td>0.285714</td>\n",
       "      <td>1.0</td>\n",
       "    </tr>\n",
       "    <tr>\n",
       "      <th>1</th>\n",
       "      <td>Beauty_1_001_Central_1</td>\n",
       "      <td>2016-05-02</td>\n",
       "      <td>0.0</td>\n",
       "      <td>0.0</td>\n",
       "      <td>0.285714</td>\n",
       "      <td>0.0</td>\n",
       "    </tr>\n",
       "    <tr>\n",
       "      <th>2</th>\n",
       "      <td>Beauty_1_001_Central_1</td>\n",
       "      <td>2016-05-03</td>\n",
       "      <td>0.0</td>\n",
       "      <td>-1.0</td>\n",
       "      <td>0.285714</td>\n",
       "      <td>0.0</td>\n",
       "    </tr>\n",
       "    <tr>\n",
       "      <th>3</th>\n",
       "      <td>Beauty_1_001_Central_1</td>\n",
       "      <td>2016-05-04</td>\n",
       "      <td>0.0</td>\n",
       "      <td>0.0</td>\n",
       "      <td>0.285714</td>\n",
       "      <td>-0.5</td>\n",
       "    </tr>\n",
       "    <tr>\n",
       "      <th>4</th>\n",
       "      <td>Beauty_1_001_Central_1</td>\n",
       "      <td>2016-05-05</td>\n",
       "      <td>0.0</td>\n",
       "      <td>1.0</td>\n",
       "      <td>0.285714</td>\n",
       "      <td>0.5</td>\n",
       "    </tr>\n",
       "  </tbody>\n",
       "</table>\n",
       "</div>"
      ],
      "text/plain": [
       "                unique_id         ds  Naive  SeasonalNaive  WindowAverage  \\\n",
       "0  Beauty_1_001_Central_1 2016-05-01    0.0            2.0       0.285714   \n",
       "1  Beauty_1_001_Central_1 2016-05-02    0.0            0.0       0.285714   \n",
       "2  Beauty_1_001_Central_1 2016-05-03    0.0           -1.0       0.285714   \n",
       "3  Beauty_1_001_Central_1 2016-05-04    0.0            0.0       0.285714   \n",
       "4  Beauty_1_001_Central_1 2016-05-05    0.0            1.0       0.285714   \n",
       "\n",
       "   SeasWA  \n",
       "0     1.0  \n",
       "1     0.0  \n",
       "2     0.0  \n",
       "3    -0.5  \n",
       "4     0.5  "
      ]
     },
     "execution_count": 40,
     "metadata": {},
     "output_type": "execute_result"
    }
   ],
   "source": [
    "p_4_forecast = p_4_forecast.reset_index()\n",
    "p_4_forecast.head()"
   ]
  },
  {
   "cell_type": "code",
   "execution_count": 41,
   "metadata": {},
   "outputs": [
    {
     "data": {
      "text/html": [
       "<div>\n",
       "<style scoped>\n",
       "    .dataframe tbody tr th:only-of-type {\n",
       "        vertical-align: middle;\n",
       "    }\n",
       "\n",
       "    .dataframe tbody tr th {\n",
       "        vertical-align: top;\n",
       "    }\n",
       "\n",
       "    .dataframe thead th {\n",
       "        text-align: right;\n",
       "    }\n",
       "</style>\n",
       "<table border=\"1\" class=\"dataframe\">\n",
       "  <thead>\n",
       "    <tr style=\"text-align: right;\">\n",
       "      <th></th>\n",
       "      <th>unique_id</th>\n",
       "      <th>ds</th>\n",
       "      <th>Naive</th>\n",
       "      <th>SeasonalNaive</th>\n",
       "      <th>WindowAverage</th>\n",
       "      <th>SeasWA</th>\n",
       "    </tr>\n",
       "  </thead>\n",
       "  <tbody>\n",
       "    <tr>\n",
       "      <th>0</th>\n",
       "      <td>Beauty_1_001_Central_1</td>\n",
       "      <td>2016-05-01</td>\n",
       "      <td>0</td>\n",
       "      <td>2</td>\n",
       "      <td>0</td>\n",
       "      <td>1</td>\n",
       "    </tr>\n",
       "    <tr>\n",
       "      <th>1</th>\n",
       "      <td>Beauty_1_001_Central_1</td>\n",
       "      <td>2016-05-02</td>\n",
       "      <td>0</td>\n",
       "      <td>0</td>\n",
       "      <td>0</td>\n",
       "      <td>0</td>\n",
       "    </tr>\n",
       "    <tr>\n",
       "      <th>2</th>\n",
       "      <td>Beauty_1_001_Central_1</td>\n",
       "      <td>2016-05-03</td>\n",
       "      <td>0</td>\n",
       "      <td>0</td>\n",
       "      <td>0</td>\n",
       "      <td>0</td>\n",
       "    </tr>\n",
       "    <tr>\n",
       "      <th>3</th>\n",
       "      <td>Beauty_1_001_Central_1</td>\n",
       "      <td>2016-05-04</td>\n",
       "      <td>0</td>\n",
       "      <td>0</td>\n",
       "      <td>0</td>\n",
       "      <td>0</td>\n",
       "    </tr>\n",
       "    <tr>\n",
       "      <th>4</th>\n",
       "      <td>Beauty_1_001_Central_1</td>\n",
       "      <td>2016-05-05</td>\n",
       "      <td>0</td>\n",
       "      <td>1</td>\n",
       "      <td>0</td>\n",
       "      <td>0</td>\n",
       "    </tr>\n",
       "  </tbody>\n",
       "</table>\n",
       "</div>"
      ],
      "text/plain": [
       "                unique_id         ds  Naive  SeasonalNaive  WindowAverage  \\\n",
       "0  Beauty_1_001_Central_1 2016-05-01      0              2              0   \n",
       "1  Beauty_1_001_Central_1 2016-05-02      0              0              0   \n",
       "2  Beauty_1_001_Central_1 2016-05-03      0              0              0   \n",
       "3  Beauty_1_001_Central_1 2016-05-04      0              0              0   \n",
       "4  Beauty_1_001_Central_1 2016-05-05      0              1              0   \n",
       "\n",
       "   SeasWA  \n",
       "0       1  \n",
       "1       0  \n",
       "2       0  \n",
       "3       0  \n",
       "4       0  "
      ]
     },
     "execution_count": 41,
     "metadata": {},
     "output_type": "execute_result"
    }
   ],
   "source": [
    "p_4_forecast[[\"Naive\", \"SeasonalNaive\", \"WindowAverage\", \"SeasWA\"]] = p_4_forecast[[\"Naive\", \"SeasonalNaive\", \"WindowAverage\", \"SeasWA\"]].apply(round_positive)\n",
    "p_4_forecast.head()"
   ]
  },
  {
   "cell_type": "code",
   "execution_count": 29,
   "metadata": {},
   "outputs": [],
   "source": [
    "df_wa_diff_7 = convert_to_sub_csv(p_4_forecast, \"WindowAverage\")"
   ]
  },
  {
   "cell_type": "code",
   "execution_count": 30,
   "metadata": {},
   "outputs": [],
   "source": [
    "# df_wa_diff_7.to_csv(EXPORT_PATH+\"/submission_13.csv\", header=True, index=False)"
   ]
  },
  {
   "cell_type": "code",
   "execution_count": 31,
   "metadata": {},
   "outputs": [],
   "source": [
    "df_seaswa_diff_7 = convert_to_sub_csv(p_4_forecast, \"SeasWA\")"
   ]
  },
  {
   "cell_type": "code",
   "execution_count": 32,
   "metadata": {},
   "outputs": [],
   "source": [
    "# df_seaswa_diff_7.to_csv(EXPORT_PATH+\"/submission_14.csv\", header=True, index=False)"
   ]
  },
  {
   "cell_type": "code",
   "execution_count": 42,
   "metadata": {},
   "outputs": [],
   "source": [
    "df_naive_diff_7 = convert_to_sub_csv(p_4_forecast, \"Naive\")\n",
    "\n",
    "# df_naive_diff_7.to_csv(EXPORT_PATH+\"/submission_15.csv\", header=True, index=False)"
   ]
  },
  {
   "attachments": {},
   "cell_type": "markdown",
   "metadata": {},
   "source": [
    "### Try by window of 14, data differenced by 7"
   ]
  },
  {
   "cell_type": "code",
   "execution_count": 33,
   "metadata": {},
   "outputs": [],
   "source": [
    "model_5 = StatsForecast(models=[SeasonalNaive(season_length=14), \n",
    "                              WindowAverage(window_size=14), \n",
    "                              SeasonalWindowAverage(window_size=2, season_length=14)],\n",
    "                      freq='D', n_jobs=-1)\n",
    "\n",
    "p_5_forecast = model_5.forecast(h = 21, df = df_naive_train_diff)"
   ]
  },
  {
   "cell_type": "code",
   "execution_count": 34,
   "metadata": {},
   "outputs": [
    {
     "data": {
      "text/html": [
       "<div>\n",
       "<style scoped>\n",
       "    .dataframe tbody tr th:only-of-type {\n",
       "        vertical-align: middle;\n",
       "    }\n",
       "\n",
       "    .dataframe tbody tr th {\n",
       "        vertical-align: top;\n",
       "    }\n",
       "\n",
       "    .dataframe thead th {\n",
       "        text-align: right;\n",
       "    }\n",
       "</style>\n",
       "<table border=\"1\" class=\"dataframe\">\n",
       "  <thead>\n",
       "    <tr style=\"text-align: right;\">\n",
       "      <th></th>\n",
       "      <th>unique_id</th>\n",
       "      <th>ds</th>\n",
       "      <th>SeasonalNaive</th>\n",
       "      <th>WindowAverage</th>\n",
       "      <th>SeasWA</th>\n",
       "    </tr>\n",
       "  </thead>\n",
       "  <tbody>\n",
       "    <tr>\n",
       "      <th>0</th>\n",
       "      <td>Beauty_1_001_Central_1</td>\n",
       "      <td>2016-05-01</td>\n",
       "      <td>0.0</td>\n",
       "      <td>0.142857</td>\n",
       "      <td>0.0</td>\n",
       "    </tr>\n",
       "    <tr>\n",
       "      <th>1</th>\n",
       "      <td>Beauty_1_001_Central_1</td>\n",
       "      <td>2016-05-02</td>\n",
       "      <td>0.0</td>\n",
       "      <td>0.142857</td>\n",
       "      <td>0.0</td>\n",
       "    </tr>\n",
       "    <tr>\n",
       "      <th>2</th>\n",
       "      <td>Beauty_1_001_Central_1</td>\n",
       "      <td>2016-05-03</td>\n",
       "      <td>1.0</td>\n",
       "      <td>0.142857</td>\n",
       "      <td>0.5</td>\n",
       "    </tr>\n",
       "    <tr>\n",
       "      <th>3</th>\n",
       "      <td>Beauty_1_001_Central_1</td>\n",
       "      <td>2016-05-04</td>\n",
       "      <td>-1.0</td>\n",
       "      <td>0.142857</td>\n",
       "      <td>-0.5</td>\n",
       "    </tr>\n",
       "    <tr>\n",
       "      <th>4</th>\n",
       "      <td>Beauty_1_001_Central_1</td>\n",
       "      <td>2016-05-05</td>\n",
       "      <td>0.0</td>\n",
       "      <td>0.142857</td>\n",
       "      <td>0.0</td>\n",
       "    </tr>\n",
       "  </tbody>\n",
       "</table>\n",
       "</div>"
      ],
      "text/plain": [
       "                unique_id         ds  SeasonalNaive  WindowAverage  SeasWA\n",
       "0  Beauty_1_001_Central_1 2016-05-01            0.0       0.142857     0.0\n",
       "1  Beauty_1_001_Central_1 2016-05-02            0.0       0.142857     0.0\n",
       "2  Beauty_1_001_Central_1 2016-05-03            1.0       0.142857     0.5\n",
       "3  Beauty_1_001_Central_1 2016-05-04           -1.0       0.142857    -0.5\n",
       "4  Beauty_1_001_Central_1 2016-05-05            0.0       0.142857     0.0"
      ]
     },
     "execution_count": 34,
     "metadata": {},
     "output_type": "execute_result"
    }
   ],
   "source": [
    "p_5_forecast = p_5_forecast.reset_index()\n",
    "p_5_forecast.head()"
   ]
  },
  {
   "cell_type": "code",
   "execution_count": 35,
   "metadata": {},
   "outputs": [
    {
     "data": {
      "text/html": [
       "<div>\n",
       "<style scoped>\n",
       "    .dataframe tbody tr th:only-of-type {\n",
       "        vertical-align: middle;\n",
       "    }\n",
       "\n",
       "    .dataframe tbody tr th {\n",
       "        vertical-align: top;\n",
       "    }\n",
       "\n",
       "    .dataframe thead th {\n",
       "        text-align: right;\n",
       "    }\n",
       "</style>\n",
       "<table border=\"1\" class=\"dataframe\">\n",
       "  <thead>\n",
       "    <tr style=\"text-align: right;\">\n",
       "      <th></th>\n",
       "      <th>unique_id</th>\n",
       "      <th>ds</th>\n",
       "      <th>SeasonalNaive</th>\n",
       "      <th>WindowAverage</th>\n",
       "      <th>SeasWA</th>\n",
       "    </tr>\n",
       "  </thead>\n",
       "  <tbody>\n",
       "    <tr>\n",
       "      <th>0</th>\n",
       "      <td>Beauty_1_001_Central_1</td>\n",
       "      <td>2016-05-01</td>\n",
       "      <td>0</td>\n",
       "      <td>0</td>\n",
       "      <td>0</td>\n",
       "    </tr>\n",
       "    <tr>\n",
       "      <th>1</th>\n",
       "      <td>Beauty_1_001_Central_1</td>\n",
       "      <td>2016-05-02</td>\n",
       "      <td>0</td>\n",
       "      <td>0</td>\n",
       "      <td>0</td>\n",
       "    </tr>\n",
       "    <tr>\n",
       "      <th>2</th>\n",
       "      <td>Beauty_1_001_Central_1</td>\n",
       "      <td>2016-05-03</td>\n",
       "      <td>1</td>\n",
       "      <td>0</td>\n",
       "      <td>0</td>\n",
       "    </tr>\n",
       "    <tr>\n",
       "      <th>3</th>\n",
       "      <td>Beauty_1_001_Central_1</td>\n",
       "      <td>2016-05-04</td>\n",
       "      <td>0</td>\n",
       "      <td>0</td>\n",
       "      <td>0</td>\n",
       "    </tr>\n",
       "    <tr>\n",
       "      <th>4</th>\n",
       "      <td>Beauty_1_001_Central_1</td>\n",
       "      <td>2016-05-05</td>\n",
       "      <td>0</td>\n",
       "      <td>0</td>\n",
       "      <td>0</td>\n",
       "    </tr>\n",
       "  </tbody>\n",
       "</table>\n",
       "</div>"
      ],
      "text/plain": [
       "                unique_id         ds  SeasonalNaive  WindowAverage  SeasWA\n",
       "0  Beauty_1_001_Central_1 2016-05-01              0              0       0\n",
       "1  Beauty_1_001_Central_1 2016-05-02              0              0       0\n",
       "2  Beauty_1_001_Central_1 2016-05-03              1              0       0\n",
       "3  Beauty_1_001_Central_1 2016-05-04              0              0       0\n",
       "4  Beauty_1_001_Central_1 2016-05-05              0              0       0"
      ]
     },
     "execution_count": 35,
     "metadata": {},
     "output_type": "execute_result"
    }
   ],
   "source": [
    "p_5_forecast[[\"SeasonalNaive\", \"WindowAverage\", \"SeasWA\"]] = p_5_forecast[[\"SeasonalNaive\", \"WindowAverage\", \"SeasWA\"]].apply(round_positive)\n",
    "p_5_forecast.head()"
   ]
  },
  {
   "cell_type": "code",
   "execution_count": 36,
   "metadata": {},
   "outputs": [],
   "source": [
    "df_wa_diff_7_14 = convert_to_sub_csv(p_5_forecast, \"WindowAverage\")\n",
    "# df_wa_diff_7_14.to_csv(EXPORT_PATH+\"/submission_15.csv\", header=True, index=False)"
   ]
  },
  {
   "attachments": {},
   "cell_type": "markdown",
   "metadata": {},
   "source": [
    "#### Different window sizes for window average"
   ]
  },
  {
   "cell_type": "code",
   "execution_count": 49,
   "metadata": {},
   "outputs": [],
   "source": [
    "wa_3 = StatsForecast(df = df_naive_train, \n",
    "                        models=[WindowAverage(window_size=3)],\n",
    "                      freq='D', n_jobs=-1)\n",
    "\n",
    "wa_9 = StatsForecast(df = df_naive_train, \n",
    "                        models=[WindowAverage(window_size=9)],\n",
    "                      freq='D', n_jobs=-1)\n",
    "\n",
    "wa_12 = StatsForecast(df = df_naive_train, \n",
    "                        models=[WindowAverage(window_size=12)],\n",
    "                      freq='D', n_jobs=-1)\n",
    "\n",
    "wa_14 = StatsForecast(df = df_naive_train, \n",
    "                        models=[WindowAverage(window_size=14)],\n",
    "                      freq='D', n_jobs=-1)"
   ]
  },
  {
   "cell_type": "code",
   "execution_count": 50,
   "metadata": {},
   "outputs": [],
   "source": [
    "df_wa_3 = wa_3.forecast(h = 21)\n",
    "df_wa_3 = df_wa_3.reset_index()"
   ]
  },
  {
   "cell_type": "code",
   "execution_count": 51,
   "metadata": {},
   "outputs": [],
   "source": [
    "df_wa_9 = wa_9.forecast(h = 21)\n",
    "df_wa_9 = df_wa_9.reset_index()"
   ]
  },
  {
   "cell_type": "code",
   "execution_count": 52,
   "metadata": {},
   "outputs": [],
   "source": [
    "df_wa_12 = wa_12.forecast(h = 21)\n",
    "df_wa_12 = df_wa_12.reset_index()"
   ]
  },
  {
   "cell_type": "code",
   "execution_count": 53,
   "metadata": {},
   "outputs": [],
   "source": [
    "df_wa_14 = wa_14.forecast(h = 21)\n",
    "df_wa_14 = df_wa_14.reset_index()"
   ]
  },
  {
   "cell_type": "code",
   "execution_count": 59,
   "metadata": {},
   "outputs": [],
   "source": [
    "wa_3_sub = convert_to_sub_csv(df_wa_3, \"WindowAverage\")\n",
    "# wa_3_sub.to_csv(EXPORT_PATH+\"/submission_16.csv\", header=True, index=False)"
   ]
  },
  {
   "cell_type": "code",
   "execution_count": 60,
   "metadata": {},
   "outputs": [],
   "source": [
    "wa_9_sub = convert_to_sub_csv(df_wa_9, \"WindowAverage\")\n",
    "# wa_9_sub.to_csv(EXPORT_PATH+\"/submission_17.csv\", header=True, index=False)"
   ]
  },
  {
   "cell_type": "code",
   "execution_count": 61,
   "metadata": {},
   "outputs": [],
   "source": [
    "wa_12_sub = convert_to_sub_csv(df_wa_12, \"WindowAverage\")\n",
    "# wa_12_sub.to_csv(EXPORT_PATH+\"/submission_18.csv\", header=True, index=False)"
   ]
  },
  {
   "cell_type": "code",
   "execution_count": 62,
   "metadata": {},
   "outputs": [],
   "source": [
    "wa_14_sub = convert_to_sub_csv(df_wa_14, \"WindowAverage\")\n",
    "# wa_14_sub.to_csv(EXPORT_PATH+\"/submission_19.csv\", header=True, index=False)"
   ]
  },
  {
   "attachments": {},
   "cell_type": "markdown",
   "metadata": {},
   "source": [
    "## Best model here!\n",
    "\n",
    "Window average = 21, no differencing"
   ]
  },
  {
   "cell_type": "code",
   "execution_count": 55,
   "metadata": {},
   "outputs": [],
   "source": [
    "wa_21 = StatsForecast(df = df_naive_train, \n",
    "                        models=[WindowAverage(window_size=21)],\n",
    "                      freq='D', n_jobs=-1)"
   ]
  },
  {
   "cell_type": "code",
   "execution_count": 56,
   "metadata": {},
   "outputs": [],
   "source": [
    "df_wa_21 = wa_21.forecast(h = 21)\n",
    "df_wa_21 = df_wa_21.reset_index()"
   ]
  },
  {
   "cell_type": "code",
   "execution_count": 57,
   "metadata": {},
   "outputs": [],
   "source": [
    "wa_21_sub = convert_to_sub_csv(df_wa_21, \"WindowAverage\")\n",
    "# wa_21_sub.to_csv(EXPORT_PATH+\"/submission_20.csv\", header=True, index=False)"
   ]
  },
  {
   "cell_type": "code",
   "execution_count": 12,
   "metadata": {},
   "outputs": [],
   "source": [
    "wa_28 = StatsForecast(df = df_naive_train, \n",
    "                        models=[WindowAverage(window_size=28)],\n",
    "                      freq='D', n_jobs=-1)"
   ]
  },
  {
   "cell_type": "code",
   "execution_count": 16,
   "metadata": {},
   "outputs": [],
   "source": [
    "wa_42 = StatsForecast(df = df_naive_train, \n",
    "                        models=[WindowAverage(window_size=42)],\n",
    "                      freq='D', n_jobs=-1)"
   ]
  },
  {
   "cell_type": "code",
   "execution_count": 13,
   "metadata": {},
   "outputs": [],
   "source": [
    "wa_56 = StatsForecast(df = df_naive_train, \n",
    "                        models=[WindowAverage(window_size=56)],\n",
    "                      freq='D', n_jobs=-1)"
   ]
  },
  {
   "cell_type": "code",
   "execution_count": 14,
   "metadata": {},
   "outputs": [],
   "source": [
    "df_wa_56 = wa_56.forecast(h = 21)\n",
    "df_wa_56 = df_wa_56.reset_index()"
   ]
  },
  {
   "cell_type": "code",
   "execution_count": 15,
   "metadata": {},
   "outputs": [],
   "source": [
    "wa_56_sub = convert_to_sub_csv(df_wa_56, \"WindowAverage\")\n",
    "# wa_56_sub.to_csv(EXPORT_PATH+\"/submission_21.csv\", header=True, index=False)"
   ]
  },
  {
   "cell_type": "code",
   "execution_count": 17,
   "metadata": {},
   "outputs": [],
   "source": [
    "df_wa_42 = wa_42.forecast(h = 21)\n",
    "df_wa_42 = df_wa_42.reset_index()"
   ]
  },
  {
   "cell_type": "code",
   "execution_count": 18,
   "metadata": {},
   "outputs": [],
   "source": [
    "wa_42_sub = convert_to_sub_csv(df_wa_42, \"WindowAverage\")\n",
    "# wa_42_sub.to_csv(EXPORT_PATH+\"/submission_21.csv\", header=True, index=False)"
   ]
  },
  {
   "cell_type": "code",
   "execution_count": 21,
   "metadata": {},
   "outputs": [],
   "source": [
    "df_wa_28 = wa_28.forecast(h = 21)\n",
    "df_wa_28 = df_wa_28.reset_index()"
   ]
  },
  {
   "cell_type": "code",
   "execution_count": 22,
   "metadata": {},
   "outputs": [
    {
     "data": {
      "text/html": [
       "<div>\n",
       "<style scoped>\n",
       "    .dataframe tbody tr th:only-of-type {\n",
       "        vertical-align: middle;\n",
       "    }\n",
       "\n",
       "    .dataframe tbody tr th {\n",
       "        vertical-align: top;\n",
       "    }\n",
       "\n",
       "    .dataframe thead th {\n",
       "        text-align: right;\n",
       "    }\n",
       "</style>\n",
       "<table border=\"1\" class=\"dataframe\">\n",
       "  <thead>\n",
       "    <tr style=\"text-align: right;\">\n",
       "      <th></th>\n",
       "      <th>unique_id</th>\n",
       "      <th>ds</th>\n",
       "      <th>WindowAverage</th>\n",
       "    </tr>\n",
       "  </thead>\n",
       "  <tbody>\n",
       "    <tr>\n",
       "      <th>0</th>\n",
       "      <td>Beauty_1_001_Central_1</td>\n",
       "      <td>2016-05-01</td>\n",
       "      <td>0.357143</td>\n",
       "    </tr>\n",
       "    <tr>\n",
       "      <th>1</th>\n",
       "      <td>Beauty_1_001_Central_1</td>\n",
       "      <td>2016-05-02</td>\n",
       "      <td>0.357143</td>\n",
       "    </tr>\n",
       "    <tr>\n",
       "      <th>2</th>\n",
       "      <td>Beauty_1_001_Central_1</td>\n",
       "      <td>2016-05-03</td>\n",
       "      <td>0.357143</td>\n",
       "    </tr>\n",
       "    <tr>\n",
       "      <th>3</th>\n",
       "      <td>Beauty_1_001_Central_1</td>\n",
       "      <td>2016-05-04</td>\n",
       "      <td>0.357143</td>\n",
       "    </tr>\n",
       "    <tr>\n",
       "      <th>4</th>\n",
       "      <td>Beauty_1_001_Central_1</td>\n",
       "      <td>2016-05-05</td>\n",
       "      <td>0.357143</td>\n",
       "    </tr>\n",
       "  </tbody>\n",
       "</table>\n",
       "</div>"
      ],
      "text/plain": [
       "                unique_id         ds  WindowAverage\n",
       "0  Beauty_1_001_Central_1 2016-05-01       0.357143\n",
       "1  Beauty_1_001_Central_1 2016-05-02       0.357143\n",
       "2  Beauty_1_001_Central_1 2016-05-03       0.357143\n",
       "3  Beauty_1_001_Central_1 2016-05-04       0.357143\n",
       "4  Beauty_1_001_Central_1 2016-05-05       0.357143"
      ]
     },
     "execution_count": 22,
     "metadata": {},
     "output_type": "execute_result"
    }
   ],
   "source": [
    "df_wa_28.head()"
   ]
  },
  {
   "cell_type": "code",
   "execution_count": 24,
   "metadata": {},
   "outputs": [],
   "source": [
    "wa_28_sub = convert_to_sub_csv(df_wa_28, \"WindowAverage\")\n",
    "# wa_28_sub.to_csv(EXPORT_PATH+\"/submission_22.csv\", header=True, index=False)"
   ]
  }
 ],
 "metadata": {
  "kernelspec": {
   "display_name": "ads_env",
   "language": "python",
   "name": "python3"
  },
  "language_info": {
   "codemirror_mode": {
    "name": "ipython",
    "version": 3
   },
   "file_extension": ".py",
   "mimetype": "text/x-python",
   "name": "python",
   "nbconvert_exporter": "python",
   "pygments_lexer": "ipython3",
   "version": "3.7.5"
  },
  "orig_nbformat": 4
 },
 "nbformat": 4,
 "nbformat_minor": 2
}
